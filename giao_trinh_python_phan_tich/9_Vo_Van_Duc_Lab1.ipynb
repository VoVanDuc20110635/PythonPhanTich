{
 "cells": [
  {
   "cell_type": "markdown",
   "metadata": {},
   "source": [
    "# Lab 1 - Python's Built-in Data Types"
   ]
  },
  {
   "cell_type": "markdown",
   "metadata": {},
   "source": [
    "## Bài 1\n",
    "\n",
    "### 1a.\n",
    "- Dùng thư viện `math`, tính giá trị của $\\frac{\\pi}{4}$."
   ]
  },
  {
   "cell_type": "code",
   "execution_count": 10,
   "metadata": {},
   "outputs": [
    {
     "data": {
      "text/plain": [
       "0.7853981633974483"
      ]
     },
     "execution_count": 10,
     "metadata": {},
     "output_type": "execute_result"
    }
   ],
   "source": [
    "# write your code here\n",
    "import math\n",
    "math.pi/4\n"
   ]
  },
  {
   "cell_type": "markdown",
   "metadata": {},
   "source": [
    "### 1b.\n",
    "- Dùng hàm `random.uniform()`, tạo hàm `rand()` để sinh ra ngẫu nhiên một số thực trong khoảng $-1$ đến $1$.\n",
    "- Gọi hàm `rand()` một lần. Sử dụng hàm `random.seed()` để cố định hạt giống (seed) cho hàm sinh số ngẫu nhiên."
   ]
  },
  {
   "cell_type": "code",
   "execution_count": 11,
   "metadata": {},
   "outputs": [
    {
     "data": {
      "text/plain": [
       "-0.7312715117751976"
      ]
     },
     "execution_count": 11,
     "metadata": {},
     "output_type": "execute_result"
    }
   ],
   "source": [
    "import random\n",
    "\n",
    "random.seed(1) # Don't change\n",
    "\n",
    "def rand():\n",
    "   # define your function here!\n",
    "    return random.uniform(-1, 1)\n",
    "\n",
    "rand()"
   ]
  },
  {
   "cell_type": "markdown",
   "metadata": {},
   "source": [
    "### 1c.\n",
    "- Viết hàm `distance(x, y)` để tính khoảng cách Eucledian giữa điểm x và y. Dùng hàm của bạn để tính khoảng cách giữa $x=(0,0)$ và $y=(1,1)$."
   ]
  },
  {
   "cell_type": "code",
   "execution_count": 12,
   "metadata": {},
   "outputs": [
    {
     "data": {
      "text/plain": [
       "1.4142135623730951"
      ]
     },
     "execution_count": 12,
     "metadata": {},
     "output_type": "execute_result"
    }
   ],
   "source": [
    "def distance(x, y):\n",
    "   # define your function here!\n",
    "    distance1 = 0\n",
    "    for i in range(0,len(x),1):\n",
    "        distance1 += (x[i] - y[i])**2\n",
    "    return math.sqrt(distance1)\n",
    "distance([0,0],[1,1])"
   ]
  },
  {
   "cell_type": "markdown",
   "metadata": {},
   "source": [
    "### 1d.\n",
    "- Viết hàm `in_circle(x, origin)` để kiểm tra xem một điểm trong mặt phẳng 2 chiều có nằm trong đường tròn đơn vị (bán kính 1) có tâm là gốc tọa độ hay không?\n",
    "    - Hàm trả về `True` nếu khoảng cách giữa `x` và gốc tọa độ bé hơn 1 và trả về `False` nếu ngược lại.\n",
    "    - Sử dụng hàm `distance(x, y)` đã được định nghĩa ở câu 1c.\n",
    "- Sử dụng hàm của bạn để kiểm tra điểm (1,1) có nằm trong đường tròn đơn vị có tâm là (0,0) hay không?"
   ]
  },
  {
   "cell_type": "code",
   "execution_count": 13,
   "metadata": {},
   "outputs": [],
   "source": [
    "def in_circle(x, origin = [0,0]):\n",
    "   # Define your function here!\n",
    "    if distance(x,origin) < 1:\n",
    "        return False\n",
    "    return True"
   ]
  },
  {
   "cell_type": "code",
   "execution_count": 14,
   "metadata": {},
   "outputs": [
    {
     "data": {
      "text/plain": [
       "True"
      ]
     },
     "execution_count": 14,
     "metadata": {},
     "output_type": "execute_result"
    }
   ],
   "source": [
    "x = (0, 0)\n",
    "y = (1, 1)\n",
    "in_circle(x, y)"
   ]
  },
  {
   "cell_type": "markdown",
   "metadata": {},
   "source": [
    "### 1e.\n",
    "\n",
    "- Tạo list tên `inside` gồm `R=10000` giá trị boolean như sau:\n",
    "    - Dùng hàm `rand` ở câu 1b để sinh `R` điểm một cách ngẫu nhiên.\n",
    "    - Dùng hàm `in_circle` kiểm tra liệu một điểm cho trước có nằm trong đường tròn đơn vị có tâm là `(0,0)` hay không.\n",
    "- Tìm tỷ lệ các điểm thuộc đường tròn bằng cách tính tổng các giá trị `True` trong `inside` list và chia cho `R`.\n",
    "- In ra kết quả của bạn. Tỷ lệ này là một ước lượng cho giá trị của $\\frac{\\pi}{4}$."
   ]
  },
  {
   "cell_type": "code",
   "execution_count": 15,
   "metadata": {},
   "outputs": [
    {
     "data": {
      "text/plain": [
       "0.779"
      ]
     },
     "execution_count": 15,
     "metadata": {},
     "output_type": "execute_result"
    }
   ],
   "source": [
    "random.seed(1) \n",
    "\n",
    "# write your code here!\n",
    "inside = []\n",
    "for i in range(0,10000,1):\n",
    "    x = [rand(), rand()]\n",
    "    inside.append(in_circle(x))\n",
    "sum=0\n",
    "for i in inside: \n",
    "    if inside[i] == True:\n",
    "        sum = sum + 1\n",
    "sum/10000"
   ]
  },
  {
   "cell_type": "markdown",
   "metadata": {},
   "source": [
    "## 1f.\n",
    "\n",
    "- Tìm hiệu giữa giá trị ước lượng được ở câu 1e và $\\frac{\\pi}{4}$."
   ]
  },
  {
   "cell_type": "code",
   "execution_count": 20,
   "metadata": {},
   "outputs": [
    {
     "name": "stdout",
     "output_type": "stream",
     "text": [
      "0.5643981633974483\n"
     ]
    }
   ],
   "source": [
    "# write your code here!\n",
    "print(abs(count/10000 - math.pi/4))\n"
   ]
  },
  {
   "cell_type": "markdown",
   "metadata": {},
   "source": [
    "## Bài 2.\n",
    "\n",
    "### 2a.\n",
    "- Import thư viện `string`,\n",
    "\n",
    "- Tạo biến `alphabet` tất cả chữ cái thường và in hoa trong bảng chữ cái tiếng Anh dùng thuộc tính `ascii_letters` (data attribute) của thư viện `string`."
   ]
  },
  {
   "cell_type": "code",
   "execution_count": 3,
   "metadata": {},
   "outputs": [
    {
     "data": {
      "text/plain": [
       "'abcdefghijklmnopqrstuvwxyzABCDEFGHIJKLMNOPQRSTUVWXYZ'"
      ]
     },
     "execution_count": 3,
     "metadata": {},
     "output_type": "execute_result"
    }
   ],
   "source": [
    "# write your code hear\n",
    "import string\n",
    "\n",
    "alphabet = string.ascii_letters\n",
    "alphabet"
   ]
  },
  {
   "cell_type": "markdown",
   "metadata": {},
   "source": [
    "### 2b.\n",
    "- Dùng biến `alphabet` đã tạo ở trên.\n",
    "\n",
    "- Cho chuỗi `text`, tạo một dictionary `count_letters` với các key là các chữ cái như trong biến `alphabet` và các value tương ứng là tần số (số lần xuất hiện) của chúng trong chuỗi `text`. Chú ý: chữ thường và chữ hoa được tính riêng."
   ]
  },
  {
   "cell_type": "code",
   "execution_count": 4,
   "metadata": {},
   "outputs": [
    {
     "data": {
      "text/plain": [
       "{'a': 50,\n",
       " 'b': 20,\n",
       " 'c': 16,\n",
       " 'd': 16,\n",
       " 'e': 90,\n",
       " 'f': 11,\n",
       " 'g': 11,\n",
       " 'h': 31,\n",
       " 'i': 50,\n",
       " 'j': 0,\n",
       " 'k': 2,\n",
       " 'l': 33,\n",
       " 'm': 16,\n",
       " 'n': 40,\n",
       " 'o': 43,\n",
       " 'p': 20,\n",
       " 'q': 0,\n",
       " 'r': 32,\n",
       " 's': 43,\n",
       " 't': 76,\n",
       " 'u': 20,\n",
       " 'v': 5,\n",
       " 'w': 4,\n",
       " 'x': 6,\n",
       " 'y': 17,\n",
       " 'z': 0,\n",
       " 'A': 3,\n",
       " 'B': 1,\n",
       " 'C': 1,\n",
       " 'D': 1,\n",
       " 'E': 2,\n",
       " 'F': 1,\n",
       " 'G': 0,\n",
       " 'H': 0,\n",
       " 'I': 3,\n",
       " 'J': 0,\n",
       " 'K': 0,\n",
       " 'L': 0,\n",
       " 'M': 0,\n",
       " 'N': 2,\n",
       " 'O': 0,\n",
       " 'P': 2,\n",
       " 'Q': 0,\n",
       " 'R': 1,\n",
       " 'S': 3,\n",
       " 'T': 3,\n",
       " 'U': 1,\n",
       " 'V': 0,\n",
       " 'W': 0,\n",
       " 'X': 0,\n",
       " 'Y': 0,\n",
       " 'Z': 1}"
      ]
     },
     "execution_count": 4,
     "metadata": {},
     "output_type": "execute_result"
    }
   ],
   "source": [
    "text = \"\"\"\n",
    "The Zen of Python, by Tim Peters\n",
    "\n",
    "Beautiful is better than ugly.\n",
    "Explicit is better than implicit.\n",
    "Simple is better than complex.\n",
    "Complex is better than complicated.\n",
    "Flat is better than nested.\n",
    "Sparse is better than dense.\n",
    "Readability counts.\n",
    "Special cases aren't special enough to break the rules.\n",
    "Although practicality beats purity.\n",
    "Errors should never pass silently.\n",
    "Unless explicitly silenced.\n",
    "In the face of ambiguity, refuse the temptation to guess.\n",
    "There should be one-- and preferably only one --obvious way to do it.\n",
    "Although that way may not be obvious at first unless you're Dutch.\n",
    "Now is better than never.\n",
    "Although never is often better than *right* now.\n",
    "If the implementation is hard to explain, it's a bad idea.\n",
    "If the implementation is easy to explain, it may be a good idea.\n",
    "Namespaces are one honking great idea -- let's do more of those!\n",
    "\"\"\"\n",
    "\n",
    "count_letters = {}\n",
    "# write your code here!\n",
    "for i in range(0,len(alphabet),1):\n",
    "    count_letters[alphabet[i]]=0\n",
    "for i in range(0,len(text),1):\n",
    "    for x in alphabet:\n",
    "        if x == text[i]:\n",
    "            count_letters[x]+=1\n",
    "count_letters\n"
   ]
  },
  {
   "cell_type": "markdown",
   "metadata": {},
   "source": [
    "### 2c.\n",
    "- Viết lại mã ở câu 2b bằng cách định nghĩa hàm `counter` có tham số là chuỗi `text` và trả về một dictionary với các key là các chữ cái và value là các tần số xuất hiện tương ứng.\n",
    "\n",
    "- Gọi hàm `counter(text)`."
   ]
  },
  {
   "cell_type": "code",
   "execution_count": 5,
   "metadata": {},
   "outputs": [],
   "source": [
    "def counter(text):\n",
    "    # define your function here!\n",
    "    count_letters = {}\n",
    "    # write your code here!\n",
    "    for i in range(0,len(alphabet),1):\n",
    "        count_letters[alphabet[i]]=0\n",
    "    for i in range(0,len(text),1):\n",
    "        for x in alphabet:\n",
    "            if x == text[i]:\n",
    "                count_letters[x]+=1\n",
    "    return count_letters\n"
   ]
  },
  {
   "cell_type": "code",
   "execution_count": 6,
   "metadata": {},
   "outputs": [
    {
     "data": {
      "text/plain": [
       "{'a': 50,\n",
       " 'b': 20,\n",
       " 'c': 16,\n",
       " 'd': 16,\n",
       " 'e': 90,\n",
       " 'f': 11,\n",
       " 'g': 11,\n",
       " 'h': 31,\n",
       " 'i': 50,\n",
       " 'j': 0,\n",
       " 'k': 2,\n",
       " 'l': 33,\n",
       " 'm': 16,\n",
       " 'n': 40,\n",
       " 'o': 43,\n",
       " 'p': 20,\n",
       " 'q': 0,\n",
       " 'r': 32,\n",
       " 's': 43,\n",
       " 't': 76,\n",
       " 'u': 20,\n",
       " 'v': 5,\n",
       " 'w': 4,\n",
       " 'x': 6,\n",
       " 'y': 17,\n",
       " 'z': 0,\n",
       " 'A': 3,\n",
       " 'B': 1,\n",
       " 'C': 1,\n",
       " 'D': 1,\n",
       " 'E': 2,\n",
       " 'F': 1,\n",
       " 'G': 0,\n",
       " 'H': 0,\n",
       " 'I': 3,\n",
       " 'J': 0,\n",
       " 'K': 0,\n",
       " 'L': 0,\n",
       " 'M': 0,\n",
       " 'N': 2,\n",
       " 'O': 0,\n",
       " 'P': 2,\n",
       " 'Q': 0,\n",
       " 'R': 1,\n",
       " 'S': 3,\n",
       " 'T': 3,\n",
       " 'U': 1,\n",
       " 'V': 0,\n",
       " 'W': 0,\n",
       " 'X': 0,\n",
       " 'Y': 0,\n",
       " 'Z': 1}"
      ]
     },
     "execution_count": 6,
     "metadata": {},
     "output_type": "execute_result"
    }
   ],
   "source": [
    "count_letters = counter(text)\n",
    "count_letters"
   ]
  },
  {
   "cell_type": "markdown",
   "metadata": {},
   "source": [
    "### 2d.\n",
    "Sử dụng dictionary `count_letters` ở câu 2c để tìm chữ cái xuất hiện thường xuyên nhất."
   ]
  },
  {
   "cell_type": "code",
   "execution_count": 8,
   "metadata": {},
   "outputs": [
    {
     "data": {
      "text/plain": [
       "'e'"
      ]
     },
     "execution_count": 8,
     "metadata": {},
     "output_type": "execute_result"
    }
   ],
   "source": [
    "# write your code here!\n",
    "max = 0\n",
    "for i in range(0,len(alphabet),1):\n",
    "    if max < count_letters[alphabet[i]]:\n",
    "        max = count_letters[alphabet[i]]\n",
    "        mark = i\n",
    "alphabet[mark]"
   ]
  },
  {
   "cell_type": "markdown",
   "metadata": {},
   "source": [
    "## Bài 3.\n",
    "\n",
    "- Viết hàm `check_strong_password(text)` Kiểm tra chuỗi `text` có phải là một password mạnh hay không. Hàm trả về `True` nếu chuỗi `text` là một password mạnh và trả về `False` nếu ngược lại. Một password mạnh phải thỏa mãn tất cả các điều kiên sau:\n",
    "\n",
    "\t- Chiều dài >= 8 ký tự\n",
    "\n",
    "\t- Có chữ cái thường\n",
    "\n",
    "\t- Có chữ cái hoa\n",
    "\n",
    "\t- Có ký tự số\n",
    "\n",
    "\t- Có ký tự đặt biệt (không phải chữ cái và số)"
   ]
  },
  {
   "cell_type": "code",
   "execution_count": 19,
   "metadata": {},
   "outputs": [],
   "source": [
    "def check_strong_password(text):\n",
    "    # Define your function here!\n",
    "    if len(text) >=8:\n",
    "        if not text.islower() and not text.isupper():\n",
    "            i = 0\n",
    "            while (text[i].isdigit() == False):\n",
    "                i+=1\n",
    "                if (i == len(text)):\n",
    "                    return False\n",
    "            i = 0\n",
    "            while (ord(text[i]) >= 48 and ord(text[i]) <= 57) or (ord(text[i]) >= 65 and ord(text[i]) <= 90) or (ord(text[i]) >= 97 and ord(text[i]) <= 122):\n",
    "                i +=1\n",
    "                if (i == len(text)):\n",
    "                    return False        \n",
    "            return True\n",
    "    return False"
   ]
  },
  {
   "cell_type": "code",
   "execution_count": 23,
   "metadata": {},
   "outputs": [
    {
     "data": {
      "text/plain": [
       "True"
      ]
     },
     "execution_count": 23,
     "metadata": {},
     "output_type": "execute_result"
    }
   ],
   "source": [
    "# Test your function here!\n",
    "text = \"ABC123!@af@\"\n",
    "check_strong_password(text)"
   ]
  },
  {
   "cell_type": "markdown",
   "metadata": {},
   "source": [
    "## Bài 4.\n",
    "\n",
    "- Cho list `m` chứa các mệnh giá tiền (`m[1] > a[2] > ... > m[k] = 1`) và `x` là số tiền cần đổi. Hãy viết hàm `change_money(m, x)` để đổi số tiền `x` với danh sách mệnh giá tiền `m` đã cho. Hàm trả về một list chứa số tờ tiền ứng với mỗi mệnh giá. Hãy sử dụng nguyên lý tham lam (greedy) với bài toán này. Tức là, ưu tiên dùng mệnh giá tiền cao nhất trước. Khi không thể dùng mệnh giá tiền cao nhất thì mới chuyển sang dùng các mệnh giá tiền thấp hơn."
   ]
  },
  {
   "cell_type": "code",
   "execution_count": 24,
   "metadata": {},
   "outputs": [],
   "source": [
    "def change_money(m, x):\n",
    "    # Define your function here!\n",
    "    list = []\n",
    "    for j in m:\n",
    "        sum = 0\n",
    "        while x >= j:\n",
    "            sum += 1\n",
    "            x = x -j\n",
    "        list.append(sum)\n",
    "    return list"
   ]
  },
  {
   "cell_type": "code",
   "execution_count": 27,
   "metadata": {},
   "outputs": [
    {
     "data": {
      "text/plain": [
       "[33, 0, 0, 0, 0, 1, 0, 0, 0]"
      ]
     },
     "execution_count": 27,
     "metadata": {},
     "output_type": "execute_result"
    }
   ],
   "source": [
    "m = [500, 200, 100, 50, 20, 10, 5, 2, 1]\n",
    "x = 16510\n",
    "change_money(m, x)"
   ]
  },
  {
   "cell_type": "markdown",
   "metadata": {},
   "source": [
    "## Bài 5.\n",
    "\n",
    "- Cho list `m` chứa các mệnh giá tiền (`m[1] > a[2] > ... > m[k] = 1`), list `n` chứa số tờ tiền ứng với mỗi mệnh giá (`b[i] >= 0`, với mọi `0 <= i <= k`), và `x` là số tiền cần đổi. Hãy viết hàm `change_money(m, n, x)` để đổi số tiền `x` với danh sách mệnh giá tiền `m` và danh sách số tờ tiền `n` đã cho. Hàm trả về một list chứa số tờ tiền ứng với mỗi mệnh giá. Tiếp tục sử dụng nguyên lý tham lam (greedy) với bài toán này. Tức là, ưu tiên dùng mệnh giá tiền cao nhất trước. Khi không thể dùng các mệnh giá tiền cao nhất thì mới chuyển sang dùng các mệnh giá tiền thấp hơn. Theo nguyên tắc này, không chắc sẽ đổi được tiền trong mọi trường. Nếu không đổi được theo nguyên tắc này thì trả về danh sách ứng với số tiền lớn nhất (<= `x`) có thể đổi được."
   ]
  },
  {
   "cell_type": "code",
   "execution_count": 31,
   "metadata": {},
   "outputs": [],
   "source": [
    "def change_money(m, n, x):\n",
    "    # Define your function here!\n",
    "    list = []\n",
    "    for i in range(len(m)):\n",
    "        soToTien = 0\n",
    "        while x >= m[i] and n[i]>0:\n",
    "            soToTien += 1\n",
    "            x -= m[i]\n",
    "            n[i] -= 1\n",
    "        list.append(soToTien)\n",
    "    return list"
   ]
  },
  {
   "cell_type": "code",
   "execution_count": 32,
   "metadata": {},
   "outputs": [
    {
     "data": {
      "text/plain": [
       "[20, 69, 1, 1, 1, 1, 0, 0, 0]"
      ]
     },
     "execution_count": 32,
     "metadata": {},
     "output_type": "execute_result"
    }
   ],
   "source": [
    "m = [500, 200, 100, 50, 20, 10, 5, 2, 1]\n",
    "n = [20, 100, 50, 100, 200, 100, 0, 0, 0]\n",
    "x = 23980\n",
    "change_money(m, n, x)"
   ]
  },
  {
   "cell_type": "code",
   "execution_count": 33,
   "metadata": {},
   "outputs": [
    {
     "data": {
      "text/plain": [
       "[20, 10, 50, 10, 20, 100, 0, 0, 0]"
      ]
     },
     "execution_count": 33,
     "metadata": {},
     "output_type": "execute_result"
    }
   ],
   "source": [
    "m = [500, 200, 100, 50, 20, 10, 5, 2, 1]\n",
    "n = [20, 10, 50, 10, 20, 100, 0, 0, 0]\n",
    "x = 20373\n",
    "change_money(m, n, x)"
   ]
  },
  {
   "cell_type": "markdown",
   "metadata": {},
   "source": [
    "## Bài 6.\n",
    "\n",
    "- Viết một hàm có tên `union_sets` nhận input là một tập hợp của tập hợp các số nguyên (set of set) và trả về một tập hợp các số nguyên là hợp của tất cả các tập hợp.\n",
    "\n",
    "- Ví dụ: **input**: `{{1, 3}, {2, 3, 4, 5}, {3, 5, 6, 7}, {42}}` -> **output**: `{1, 2, 3, 4, 5, 6, 7, 42}`"
   ]
  },
  {
   "cell_type": "code",
   "execution_count": 53,
   "metadata": {},
   "outputs": [],
   "source": [
    "def union_sets(sets):\n",
    "    # Define your function here!\n",
    "    list = []\n",
    "    for i in sets:\n",
    "        for j in i:\n",
    "            if KiemTraTonTai(list, j) == False:\n",
    "                list.append(j)\n",
    "    return SapXep(list)\n",
    "def KiemTraTonTai(list, y):\n",
    "    for i in list:\n",
    "        if i == y:\n",
    "            return True\n",
    "    return False\n",
    "def SapXep(list):\n",
    "    for i in range(0,len(list)-1,1):\n",
    "        if list[i]>list[i+1]:\n",
    "            # list[i], list[i+1] = list[i+1], list[i]\n",
    "            temp = list[i]\n",
    "            list[i] = list[i+1]\n",
    "            list[i+1] = temp\n",
    "        # i = 0\n",
    "    return list"
   ]
  },
  {
   "cell_type": "code",
   "execution_count": 54,
   "metadata": {},
   "outputs": [
    {
     "data": {
      "text/plain": [
       "[1, 2, 3, 4, 5, 6, 7, 42]"
      ]
     },
     "execution_count": 54,
     "metadata": {},
     "output_type": "execute_result"
    }
   ],
   "source": [
    "# Test your function here!\n",
    "sets = [{1, 3}, {2, 3, 4, 5}, {3, 5, 6, 7}, {42}]\n",
    "union_sets(sets)"
   ]
  },
  {
   "cell_type": "markdown",
   "metadata": {},
   "source": [
    "## Bài 7.\n",
    "\n",
    "- Viết một hàm có tên `is_happy_number` trả về liệu một số nguyên đã cho có phải là **số hạnh phúc** hay không. Một số nguyên được gọi là **số hạnh phúc** nếu một cách liên tục, tổng các bình phương các chữ số của nó cuối cùng dẫn đến số 1. Ví dụ: \n",
    "\n",
    "- 7 là số hạnh phúc vì:\n",
    "\n",
    "    - $7^2 = 49$\n",
    "    - $4^2 + 9^2 = 97$\n",
    "    - $9^2 + 7^2 = 130$\n",
    "    - $1^2 + 3^2 + 0^2 = 10$\n",
    "    - $1^2 + 0^2 = 1$\n",
    "\n",
    "- 4 không phải là số hạnh phúc vì:\n",
    "\n",
    "    - $4^2 = 16$\n",
    "    - $1^2 + 6^2 = 37$\n",
    "    - $3^2 + 7^2 = 58$\n",
    "    - $5^2 + 8^2 = 89$\n",
    "    - $8^2 + 9^2 = 145$\n",
    "    - $1^2 + 4^2 + 5^2 = 42$\n",
    "    - $4^2 + 2^2 = 20$\n",
    "    - $2^2 + 0^2 = 4$\n",
    "    - $\\cdots$\n",
    "\n",
    "- Test cases: trong các số 1->60, chỉ có 1, 7, 13, 19, 23, 28, 31, 32, 44, 49 là các số hạnh phúc."
   ]
  },
  {
   "cell_type": "code",
   "execution_count": 34,
   "metadata": {},
   "outputs": [],
   "source": [
    "def is_happy_number(n):\n",
    "    # Define your function here!\n",
    "    if (n < 10):\n",
    "        n = n**2\n",
    "    if n==1:\n",
    "        return True\n",
    "    while n >= 10:\n",
    "        soDu1 = n%10\n",
    "        n = int(n / 10)\n",
    "        soDu2 = n%10\n",
    "        n = int(n / 10)\n",
    "        soDu3 = n\n",
    "        n = soDu1*soDu1 + soDu2*soDu2 +soDu3*soDu3\n",
    "        if n == 1:\n",
    "            return True\n",
    "    return False"
   ]
  },
  {
   "cell_type": "code",
   "execution_count": 35,
   "metadata": {},
   "outputs": [
    {
     "data": {
      "text/plain": [
       "True"
      ]
     },
     "execution_count": 35,
     "metadata": {},
     "output_type": "execute_result"
    }
   ],
   "source": [
    "# Test your function here!\n",
    "is_happy_number(7)"
   ]
  },
  {
   "cell_type": "code",
   "execution_count": 36,
   "metadata": {},
   "outputs": [
    {
     "data": {
      "text/plain": [
       "False"
      ]
     },
     "execution_count": 36,
     "metadata": {},
     "output_type": "execute_result"
    }
   ],
   "source": [
    "is_happy_number(4)"
   ]
  },
  {
   "cell_type": "code",
   "execution_count": null,
   "metadata": {},
   "outputs": [],
   "source": []
  }
 ],
 "metadata": {
  "kernelspec": {
   "display_name": "Python 3 (ipykernel)",
   "language": "python",
   "name": "python3"
  },
  "language_info": {
   "codemirror_mode": {
    "name": "ipython",
    "version": 3
   },
   "file_extension": ".py",
   "mimetype": "text/x-python",
   "name": "python",
   "nbconvert_exporter": "python",
   "pygments_lexer": "ipython3",
   "version": "3.9.7"
  },
  "metadata": {
   "interpreter": {
    "hash": "e404b59586357c814bc0d3940e75d6763c00a48753b225b81f7716971b8e1741"
   }
  }
 },
 "nbformat": 4,
 "nbformat_minor": 4
}
