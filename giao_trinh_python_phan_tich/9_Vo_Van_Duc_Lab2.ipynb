{
 "cells": [
  {
   "cell_type": "markdown",
   "metadata": {},
   "source": [
    "# Bài 1 - Opperator Overloading\n",
    "\n",
    "Định nghĩa lớp `Date` để biểu diễn thời gian ngày, tháng, năm trong năm. Lớp này cung cấp một số phương thức sau:\n",
    "\n",
    "- Định nghĩa hàm `__init__(self, day, month, year)` để khởi tạo một đối tượng thời gian với `ngày (day)`, `tháng (month)`, và `năm (year)` cho trước (ta sẽ gọi hàm bằng cách viết `Date(day, month, year)`).\n",
    "\n",
    "- Định nghĩa hàm `__str__(self)` để trả về chuỗi `day/month/year` mô tả một `Date object` (ta sẽ gọi hàm bằng cách viết `print(date)`).\n",
    "\n",
    "- Định nghĩa hàm `__eq__(self, d)` để kiểm tra ngày đang xét có bằng ngày `d`? Ta sẽ gọi hàm bằng cách viết `d1 == d2`)\n",
    "\n",
    "- Định nghĩa hàm `__ne__(self, d)` để kiểm tra ngày đang xét và `d` có khác nhau? Ta sẽ gọi hàm bằng cách viết `d1 != d2`)?\n",
    "\n",
    "- Định nghĩa hàm `__gt__(self, d)` để kiểm tra ngày đang xét có lớn hơn `d`? Ta sẽ gọi hàm bằng cách viết `d1 > d2`.\n",
    "\n",
    "- Định nghĩa hàm `__lt__(self, d)` để kiểm tra ngày đang xét có bé hơn `d`? Ta sẽ gọi hàm bằng cách viết `d1 < d2`.\n",
    "\n",
    "- Định nghĩa hàm `__ge__(self, d)` để kiểm tra ngày đang xét có lớn hơn hoặc bằng `d`.? Ta sẽ gọi hàm bằng cách viết `d1 >= d2`.\n",
    "\n",
    "- Định nghĩa hàm `__le__(self, d)` để kiểm tra ngày đang xét có bé hơn hoặc bằng `d`? Ta sẽ gọi hàm bằng cách viết `d1 <= d2`.\n",
    "\n",
    "- Định nghĩa hàm `dayOfWeek(self)` trả về số nguyên mô tả ngày thứ mấy trong tuần của ngày hiện tại (giả định thứ 2 ứng với 1, thứ 3 ứng với 2, ..., chủ nhật ứng với 7). Ta sẽ gọi hàm bằng cách viết `d.dayOfWeek()`. Ví dụ: giả sử `d = Date(14, 4, 2021)` thì `d.dayOfWeek()` trả về 3, tức là ngày `thứ 4`. Tham khảo công thức tính xác định thứ trong tuần dựa vào ngày/tháng/năm ở https://en.wikipedia.org/wiki/Determination_of_the_day_of_the_week.\n",
    "\n",
    "- (**\\***) Định nghĩa hàm `dayDiff(self, d)` trả về số ngày giữa ngày hiện tại và ngày `d`. Ta sẽ gọi hàm bằng cách viết `d1.dayDiff(d2)`.\n",
    "\n",
    "- (**\\***) Định nghĩa hàm `nextDate(self)` trả về ngày kế sau ngày hiện tại một ngày. Ta sẽ gọi hàm bằng cách viết `d.nextDate()`."
   ]
  },
  {
   "cell_type": "code",
   "execution_count": 1,
   "metadata": {},
   "outputs": [],
   "source": [
    "class Date:\n",
    "    # Define your class here!\n",
    "    def __init__(self, day, month, year):\n",
    "        self.day=day\n",
    "        self.month=month\n",
    "        self.year=year\n",
    "        \n",
    "    def __str__(self):\n",
    "        return f\"Day:{self.day} Month: {self.month} Year:{self.year} \"\n",
    "    \n",
    "    def __eq__(self, d):\n",
    "        if self.day == d :\n",
    "            return True\n",
    "        return False\n",
    "    \n",
    "    def __ne__(self, d) :\n",
    "        if self.day != d :\n",
    "            return True\n",
    "        return False\n",
    "    \n",
    "    def __gt__(self, d) :\n",
    "        if self.day > d :\n",
    "            return True\n",
    "        return False\n",
    "    \n",
    "    def __lt__(self, d) :\n",
    "        if self.day < d :\n",
    "            return True\n",
    "        return False\n",
    "    \n",
    "    def __ge__(self, d):\n",
    "        if self.day >= d :\n",
    "            return True\n",
    "        return False\n",
    "    \n",
    "    def __le__(self, d):\n",
    "        if self.day <= d :\n",
    "            return True\n",
    "        return False\n",
    "\n",
    "    def NamNhuan(self):\n",
    "        if ( self.year % 4 == 0 and self.year % 100 != 0) or  self.year % 400 == 0 :\n",
    "            return True\n",
    "        return False\n",
    "    \n",
    "    def nextDate(self):\n",
    "        soNgay=0\n",
    "        if (self.month==4 or self.month==6 or self.month==9 or self.month==11):\n",
    "            soNgay=30\n",
    "        else:\n",
    "            if (self.month==2):\n",
    "                if self.NamNhuan() == True:\n",
    "                    soNgay=29\n",
    "                else:\n",
    "                    soNgay=28\n",
    "            else:\n",
    "                soNgay=31\n",
    "        if self.day+1 > soNgay :\n",
    "            self.day=1\n",
    "            if self.month+1>12 :\n",
    "                self.month=1\n",
    "                self.year+=1\n",
    "            else:\n",
    "                self.month+=1\n",
    "        else:\n",
    "            self.day+=1\n",
    "        return f\"Day:{self.day} Month:{self.month} Year:{self.year} \""
   ]
  },
  {
   "cell_type": "code",
   "execution_count": 2,
   "metadata": {},
   "outputs": [],
   "source": [
    "# Test your class here!\n",
    "d1 = Date(30, 5, 2020)\n",
    "d2 = Date(12, 7, 2021)"
   ]
  },
  {
   "cell_type": "code",
   "execution_count": 3,
   "metadata": {},
   "outputs": [
    {
     "name": "stdout",
     "output_type": "stream",
     "text": [
      "Day:30 Month: 5 Year:2020 \n"
     ]
    }
   ],
   "source": [
    "print(d1)"
   ]
  },
  {
   "cell_type": "code",
   "execution_count": 4,
   "metadata": {},
   "outputs": [
    {
     "name": "stdout",
     "output_type": "stream",
     "text": [
      "Day:12 Month: 7 Year:2021 \n"
     ]
    }
   ],
   "source": [
    "print(d2)"
   ]
  },
  {
   "cell_type": "code",
   "execution_count": 5,
   "metadata": {},
   "outputs": [
    {
     "name": "stdout",
     "output_type": "stream",
     "text": [
      "False\n"
     ]
    }
   ],
   "source": [
    "print(d1 == d2)"
   ]
  },
  {
   "cell_type": "code",
   "execution_count": 6,
   "metadata": {},
   "outputs": [
    {
     "name": "stdout",
     "output_type": "stream",
     "text": [
      "True\n"
     ]
    }
   ],
   "source": [
    "print(d1 != d2)"
   ]
  },
  {
   "cell_type": "code",
   "execution_count": 7,
   "metadata": {},
   "outputs": [
    {
     "name": "stdout",
     "output_type": "stream",
     "text": [
      "True\n"
     ]
    }
   ],
   "source": [
    "print(d1 > d2)"
   ]
  },
  {
   "cell_type": "code",
   "execution_count": 8,
   "metadata": {},
   "outputs": [
    {
     "name": "stdout",
     "output_type": "stream",
     "text": [
      "False\n"
     ]
    }
   ],
   "source": [
    "print(d1 < d2)"
   ]
  },
  {
   "cell_type": "code",
   "execution_count": 9,
   "metadata": {},
   "outputs": [
    {
     "name": "stdout",
     "output_type": "stream",
     "text": [
      "True\n"
     ]
    }
   ],
   "source": [
    "print(d1 >= d2)"
   ]
  },
  {
   "cell_type": "code",
   "execution_count": 10,
   "metadata": {},
   "outputs": [
    {
     "name": "stdout",
     "output_type": "stream",
     "text": [
      "False\n"
     ]
    }
   ],
   "source": [
    "print(d1 <= d2)"
   ]
  },
  {
   "cell_type": "code",
   "execution_count": 11,
   "metadata": {},
   "outputs": [
    {
     "ename": "AttributeError",
     "evalue": "'Date' object has no attribute 'dayOfWeek'",
     "output_type": "error",
     "traceback": [
      "\u001b[1;31m---------------------------------------------------------------------------\u001b[0m",
      "\u001b[1;31mAttributeError\u001b[0m                            Traceback (most recent call last)",
      "\u001b[1;32mC:\\Users\\WINDOW~1\\AppData\\Local\\Temp/ipykernel_7532/794539542.py\u001b[0m in \u001b[0;36m<module>\u001b[1;34m\u001b[0m\n\u001b[0;32m      1\u001b[0m \u001b[0md\u001b[0m \u001b[1;33m=\u001b[0m \u001b[0mDate\u001b[0m\u001b[1;33m(\u001b[0m\u001b[1;36m14\u001b[0m\u001b[1;33m,\u001b[0m \u001b[1;36m4\u001b[0m\u001b[1;33m,\u001b[0m \u001b[1;36m2021\u001b[0m\u001b[1;33m)\u001b[0m\u001b[1;33m\u001b[0m\u001b[1;33m\u001b[0m\u001b[0m\n\u001b[1;32m----> 2\u001b[1;33m \u001b[0mprint\u001b[0m\u001b[1;33m(\u001b[0m\u001b[0md\u001b[0m\u001b[1;33m.\u001b[0m\u001b[0mdayOfWeek\u001b[0m\u001b[1;33m(\u001b[0m\u001b[1;33m)\u001b[0m\u001b[1;33m)\u001b[0m\u001b[1;33m\u001b[0m\u001b[1;33m\u001b[0m\u001b[0m\n\u001b[0m",
      "\u001b[1;31mAttributeError\u001b[0m: 'Date' object has no attribute 'dayOfWeek'"
     ]
    }
   ],
   "source": [
    "d = Date(14, 4, 2021)\n",
    "print(d.dayOfWeek())"
   ]
  },
  {
   "cell_type": "code",
   "execution_count": 12,
   "metadata": {},
   "outputs": [
    {
     "ename": "AttributeError",
     "evalue": "'Date' object has no attribute 'dayDiff'",
     "output_type": "error",
     "traceback": [
      "\u001b[1;31m---------------------------------------------------------------------------\u001b[0m",
      "\u001b[1;31mAttributeError\u001b[0m                            Traceback (most recent call last)",
      "\u001b[1;32mC:\\Users\\WINDOW~1\\AppData\\Local\\Temp/ipykernel_7532/3550142061.py\u001b[0m in \u001b[0;36m<module>\u001b[1;34m\u001b[0m\n\u001b[0;32m      1\u001b[0m \u001b[0md1\u001b[0m \u001b[1;33m=\u001b[0m \u001b[0mDate\u001b[0m\u001b[1;33m(\u001b[0m\u001b[1;36m15\u001b[0m\u001b[1;33m,\u001b[0m \u001b[1;36m1\u001b[0m\u001b[1;33m,\u001b[0m \u001b[1;36m2020\u001b[0m\u001b[1;33m)\u001b[0m\u001b[1;33m\u001b[0m\u001b[1;33m\u001b[0m\u001b[0m\n\u001b[0;32m      2\u001b[0m \u001b[0md2\u001b[0m \u001b[1;33m=\u001b[0m \u001b[0mDate\u001b[0m\u001b[1;33m(\u001b[0m\u001b[1;36m31\u001b[0m\u001b[1;33m,\u001b[0m \u001b[1;36m12\u001b[0m\u001b[1;33m,\u001b[0m \u001b[1;36m2021\u001b[0m\u001b[1;33m)\u001b[0m\u001b[1;33m\u001b[0m\u001b[1;33m\u001b[0m\u001b[0m\n\u001b[1;32m----> 3\u001b[1;33m \u001b[0mprint\u001b[0m\u001b[1;33m(\u001b[0m\u001b[0md1\u001b[0m\u001b[1;33m.\u001b[0m\u001b[0mdayDiff\u001b[0m\u001b[1;33m(\u001b[0m\u001b[0md2\u001b[0m\u001b[1;33m)\u001b[0m\u001b[1;33m)\u001b[0m\u001b[1;33m\u001b[0m\u001b[1;33m\u001b[0m\u001b[0m\n\u001b[0m",
      "\u001b[1;31mAttributeError\u001b[0m: 'Date' object has no attribute 'dayDiff'"
     ]
    }
   ],
   "source": [
    "d1 = Date(15, 1, 2020)\n",
    "d2 = Date(31, 12, 2021)\n",
    "print(d1.dayDiff(d2))"
   ]
  },
  {
   "cell_type": "code",
   "execution_count": 13,
   "metadata": {},
   "outputs": [
    {
     "name": "stdout",
     "output_type": "stream",
     "text": [
      "Day:1 Month:3 Year:2000 \n"
     ]
    }
   ],
   "source": [
    "d = Date(29, 2, 2000)\n",
    "print(d.nextDate())"
   ]
  },
  {
   "cell_type": "code",
   "execution_count": 14,
   "metadata": {},
   "outputs": [
    {
     "name": "stdout",
     "output_type": "stream",
     "text": [
      "Day:29 Month:2 Year:2000 \n"
     ]
    }
   ],
   "source": [
    "d = Date(28, 2, 2000)\n",
    "print(d.nextDate())"
   ]
  },
  {
   "cell_type": "code",
   "execution_count": 15,
   "metadata": {},
   "outputs": [
    {
     "name": "stdout",
     "output_type": "stream",
     "text": [
      "Day:1 Month:1 Year:2001 \n"
     ]
    }
   ],
   "source": [
    "d = Date(31, 12, 2000)\n",
    "print(d.nextDate())"
   ]
  },
  {
   "cell_type": "code",
   "execution_count": 16,
   "metadata": {},
   "outputs": [
    {
     "name": "stdout",
     "output_type": "stream",
     "text": [
      "Day:31 Month:12 Year:2000 \n"
     ]
    }
   ],
   "source": [
    "d = Date(30, 12, 2000)\n",
    "print(d.nextDate())"
   ]
  },
  {
   "cell_type": "code",
   "execution_count": 17,
   "metadata": {},
   "outputs": [
    {
     "name": "stdout",
     "output_type": "stream",
     "text": [
      "Day:31 Month:1 Year:2000 \n"
     ]
    }
   ],
   "source": [
    "d = Date(30, 1, 2000)\n",
    "print(d.nextDate())"
   ]
  },
  {
   "cell_type": "code",
   "execution_count": 18,
   "metadata": {},
   "outputs": [
    {
     "name": "stdout",
     "output_type": "stream",
     "text": [
      "Day:1 Month:2 Year:2000 \n"
     ]
    }
   ],
   "source": [
    "d = Date(31, 1, 2000)\n",
    "print(d.nextDate())"
   ]
  },
  {
   "cell_type": "code",
   "execution_count": 19,
   "metadata": {},
   "outputs": [
    {
     "name": "stdout",
     "output_type": "stream",
     "text": [
      "Day:31 Month:3 Year:2000 \n"
     ]
    }
   ],
   "source": [
    "d = Date(30, 3, 2000)\n",
    "print(d.nextDate())"
   ]
  },
  {
   "cell_type": "code",
   "execution_count": 20,
   "metadata": {},
   "outputs": [
    {
     "name": "stdout",
     "output_type": "stream",
     "text": [
      "Day:1 Month:4 Year:2000 \n"
     ]
    }
   ],
   "source": [
    "d = Date(31, 3, 2000)\n",
    "print(d.nextDate())"
   ]
  },
  {
   "cell_type": "code",
   "execution_count": 21,
   "metadata": {},
   "outputs": [
    {
     "name": "stdout",
     "output_type": "stream",
     "text": [
      "Day:30 Month:4 Year:2000 \n"
     ]
    }
   ],
   "source": [
    "d = Date(29, 4, 2000)\n",
    "print(d.nextDate())"
   ]
  },
  {
   "cell_type": "code",
   "execution_count": 22,
   "metadata": {},
   "outputs": [
    {
     "name": "stdout",
     "output_type": "stream",
     "text": [
      "Day:1 Month:5 Year:2000 \n"
     ]
    }
   ],
   "source": [
    "d = Date(30, 4, 2000)\n",
    "print(d.nextDate())"
   ]
  },
  {
   "cell_type": "code",
   "execution_count": 23,
   "metadata": {},
   "outputs": [
    {
     "name": "stdout",
     "output_type": "stream",
     "text": [
      "Day:31 Month:5 Year:2000 \n"
     ]
    }
   ],
   "source": [
    "d = Date(30, 5, 2000)\n",
    "print(d.nextDate())"
   ]
  },
  {
   "cell_type": "code",
   "execution_count": 24,
   "metadata": {},
   "outputs": [
    {
     "name": "stdout",
     "output_type": "stream",
     "text": [
      "Day:1 Month:6 Year:2000 \n"
     ]
    }
   ],
   "source": [
    "d = Date(31, 5, 2000)\n",
    "print(d.nextDate())"
   ]
  },
  {
   "cell_type": "code",
   "execution_count": 25,
   "metadata": {},
   "outputs": [
    {
     "name": "stdout",
     "output_type": "stream",
     "text": [
      "Day:30 Month:6 Year:2000 \n"
     ]
    }
   ],
   "source": [
    "d = Date(29, 6, 2000)\n",
    "print(d.nextDate())"
   ]
  },
  {
   "cell_type": "code",
   "execution_count": 26,
   "metadata": {},
   "outputs": [
    {
     "name": "stdout",
     "output_type": "stream",
     "text": [
      "Day:1 Month:7 Year:2000 \n"
     ]
    }
   ],
   "source": [
    "d = Date(30, 6, 2000)\n",
    "print(d.nextDate())"
   ]
  },
  {
   "cell_type": "code",
   "execution_count": 27,
   "metadata": {},
   "outputs": [
    {
     "name": "stdout",
     "output_type": "stream",
     "text": [
      "Day:31 Month:7 Year:2000 \n"
     ]
    }
   ],
   "source": [
    "d = Date(30, 7, 2000)\n",
    "print(d.nextDate())"
   ]
  },
  {
   "cell_type": "code",
   "execution_count": 28,
   "metadata": {},
   "outputs": [
    {
     "name": "stdout",
     "output_type": "stream",
     "text": [
      "Day:1 Month:8 Year:2000 \n"
     ]
    }
   ],
   "source": [
    "d = Date(31, 7, 2000)\n",
    "print(d.nextDate())"
   ]
  },
  {
   "cell_type": "code",
   "execution_count": 29,
   "metadata": {},
   "outputs": [
    {
     "name": "stdout",
     "output_type": "stream",
     "text": [
      "Day:31 Month:8 Year:2000 \n"
     ]
    }
   ],
   "source": [
    "d = Date(30, 8, 2000)\n",
    "print(d.nextDate())"
   ]
  },
  {
   "cell_type": "code",
   "execution_count": 30,
   "metadata": {},
   "outputs": [
    {
     "name": "stdout",
     "output_type": "stream",
     "text": [
      "Day:1 Month:9 Year:2000 \n"
     ]
    }
   ],
   "source": [
    "d = Date(31, 8, 2000)\n",
    "print(d.nextDate())"
   ]
  },
  {
   "cell_type": "code",
   "execution_count": 31,
   "metadata": {},
   "outputs": [
    {
     "name": "stdout",
     "output_type": "stream",
     "text": [
      "Day:30 Month:9 Year:2000 \n"
     ]
    }
   ],
   "source": [
    "d = Date(29, 9, 2000)\n",
    "print(d.nextDate())"
   ]
  },
  {
   "cell_type": "code",
   "execution_count": 32,
   "metadata": {},
   "outputs": [
    {
     "name": "stdout",
     "output_type": "stream",
     "text": [
      "Day:1 Month:10 Year:2000 \n"
     ]
    }
   ],
   "source": [
    "d = Date(30, 9, 2000)\n",
    "print(d.nextDate())"
   ]
  },
  {
   "cell_type": "code",
   "execution_count": 33,
   "metadata": {},
   "outputs": [
    {
     "name": "stdout",
     "output_type": "stream",
     "text": [
      "Day:31 Month:10 Year:2000 \n"
     ]
    }
   ],
   "source": [
    "d = Date(30, 10, 2000)\n",
    "print(d.nextDate())"
   ]
  },
  {
   "cell_type": "code",
   "execution_count": 34,
   "metadata": {},
   "outputs": [
    {
     "name": "stdout",
     "output_type": "stream",
     "text": [
      "Day:1 Month:11 Year:2000 \n"
     ]
    }
   ],
   "source": [
    "d = Date(31, 10, 2000)\n",
    "print(d.nextDate())"
   ]
  },
  {
   "cell_type": "code",
   "execution_count": 35,
   "metadata": {},
   "outputs": [
    {
     "name": "stdout",
     "output_type": "stream",
     "text": [
      "Day:30 Month:11 Year:2000 \n"
     ]
    }
   ],
   "source": [
    "d = Date(29, 11, 2000)\n",
    "print(d.nextDate())"
   ]
  },
  {
   "cell_type": "code",
   "execution_count": 36,
   "metadata": {},
   "outputs": [
    {
     "name": "stdout",
     "output_type": "stream",
     "text": [
      "Day:1 Month:12 Year:2000 \n"
     ]
    }
   ],
   "source": [
    "d = Date(30, 11, 2000)\n",
    "print(d.nextDate())"
   ]
  },
  {
   "cell_type": "markdown",
   "metadata": {},
   "source": [
    "# Bài 2 - Inheriance\n",
    "\n",
    "- Tạo lớp `Automobile` gồm các thuộc tính sau:\n",
    "\n",
    "    - `__make`: hãng sản xuất\n",
    "    \n",
    "    - `__year`: năm sản xuất\n",
    "    \n",
    "    - `__mileage`: số mile đi được trên một đơn vị nhiên liệu\n",
    "\n",
    "    - `__price`: giá tiền\n",
    "\n",
    "- Định nghĩa phương thức `__init__` để khởi tạo các thuộc tính trên.\n",
    "\n",
    "- Định nghĩa phương thức `__str__` để trả về chuỗi gồm các thuộc tính trên để cung cấp thông tin về một `automobile` cụ thể.\n",
    "\n",
    "- Tạo các lớp `Car`, `Truck`, `SUV` kế thừa lớp `Automobile`. Trong đó:\n",
    "\n",
    "    - Lớp `Car` bổ sung thêm thuộc tính `__doors` (số cửa sổ)\n",
    "\n",
    "    - Lớp `Truck` bổ sung thêm thuộc tính `__drive_type` (loại)\n",
    "\n",
    "    - Lớp `SUV` bổ sung thêm thuộc tính `__pass_cap` (sức chứa)\n",
    "\n",
    "- Định nghĩa phương thức `__init__` tương ứng cho các lớp `Car`, `Truck`, `SUV`. Phương thức này nên gọi đến phương thức `__init__` của lớp `Automobile`.\n",
    "\n",
    "- Định nghĩa các phương thức `__str__` để trả về chuỗi gồm các thuộc tính tương ứng để cung cấp thông tin về một `Car`, `Truck`, và `SUV` cụ thể.\n",
    "\n",
    "- Tạo một vài `object` của các lớp `Automobile`, `Car`, `Truck`, và `SUV` với các thuộc tính cụ thể.\n",
    "\n",
    "- Sử dụng các `property` với `decorator` syntax để truy xuất và gán giá trị cho các thuộc tính của các `object` đã tạo. In các thông tin này ra màn hình.\n",
    "\n",
    "Class Diagram cho các lớp được mô tả ở hình sau:\n",
    "\n",
    "![Automobile Class Diagram](./image/AutomobileClassDiagram.PNG)"
   ]
  },
  {
   "cell_type": "code",
   "execution_count": 64,
   "metadata": {},
   "outputs": [],
   "source": [
    "# write your code here\n",
    "class Automobile:\n",
    "    def __init__(self,make,year,mileage,price):\n",
    "        self.__make=make\n",
    "        self.__year=year\n",
    "        self.__mileage=mileage\n",
    "        self.__price=price\n",
    "    def __str__(self):\n",
    "        return f\"Hang: {self.__make}; Nam: {self.__year}; mil: {self.__mileage}; Tien: {self.__price}\"\n",
    "    def get_make(self):\n",
    "        return self.__make\n",
    "    def get_year (self):\n",
    "        return self.__year\n",
    "    def get_mileage(self):\n",
    "        return self.__mileage\n",
    "    def get_price(self):\n",
    "        return self.__price\n",
    "\n",
    "    \n",
    "    @property\n",
    "    def UngDungTuDong(self):\n",
    "        return f\"Hang:  {self.make}  Nam:  {self.year};  mile:  {self.mileage} Tien: {self.price}\"\n",
    "    @UngDungTuDong.setter\n",
    "    def Set(self,make,year,mileage,price):\n",
    "        self.__make=make\n",
    "        self.__year=year\n",
    "        self.__mileage=mileage\n",
    "        self.__price=price\n",
    "    @UngDungTuDong.setter\n",
    "    def Set(self,obj):\n",
    "        self.__make=obj.make\n",
    "        self.__year=obj.year\n",
    "        self.__mileage=obj.mileage\n",
    "        self.__price=obj.price\n",
    "\n",
    "\n",
    "class Car(Automobile):\n",
    "    def __init__(self, make, year, mileage, price, door):\n",
    "        Automobile.__init__(self,make,year,mileage,price) \n",
    "        self.__door=door\n",
    "    def __str__(self):\n",
    "        return f\" {Automobile.__str__(self)}; Doors: {self.__door} \"\n",
    "    \n",
    "    @property\n",
    "    def XeHoi(self):\n",
    "        return f\" {Automobile.__str__(self)} Door:  {self.door}\"\n",
    "    @XeHoi.setter\n",
    "    def Set(self,make,year,mileage,price,door):\n",
    "        self.__make=make\n",
    "        self.__year=year\n",
    "        self.__mileage=mileage\n",
    "        self.__price=price\n",
    "        self.__door=door\n",
    "    @XeHoi.setter\n",
    "    def Set(self,obj):\n",
    "        self.__make=obj.make\n",
    "        self.__year=obj.year\n",
    "        self.__mileage=obj.mileage\n",
    "        self.__price=obj.price\n",
    "        self.__door=obj.door\n",
    "    \n",
    "    def get_doors(self):\n",
    "        return self.__doors\n",
    "    \n",
    "\n",
    "class Truck(Automobile):\n",
    "    def __init__(self, make, year, mileage, price, drive_type):\n",
    "        Automobile.__init__(self,make,year,mileage,price) \n",
    "        self.__drive_type=drive_type\n",
    "    def __str__(self):\n",
    "        return f\" {Automobile.__str__(self)}; Type: {self.__drive_type} \"\n",
    "\n",
    "    @property\n",
    "    def XeTai(self):\n",
    "        return f\" {Automobile.__str__(self)} Type:  {self.drive_type}\"\n",
    "    @XeTai.setter\n",
    "    def Set(self,make,year,mileage,price,drive_type):\n",
    "        self.__make=make\n",
    "        self.__year=year\n",
    "        self.__mileage=mileage\n",
    "        self.__price=price\n",
    "        self.__drive_type=drive_type\n",
    "    @XeTai.setter\n",
    "    def Set(self,obj):\n",
    "        self.__make=obj.make\n",
    "        self.__year=obj.year\n",
    "        self.__mileage=obj.mileage\n",
    "        self.__price=obj.price\n",
    "        self.__drive_type=obj.drive_type\n",
    "        \n",
    "    def get_drive_type (self):\n",
    "        return __drive_type\n",
    "\n",
    "class SUV(Automobile):\n",
    "    def __init__(self, make, year, mileage, price, pass_cap):\n",
    "        Automobile.__init__(self,make,year,mileage,price) \n",
    "        self.__pass_cap=pass_cap\n",
    "    def __str__(self):\n",
    "        return f\" {Automobile.__str__(self)}; Pass_cap: {self.__pass_cap} \"\n",
    "\n",
    "\n",
    "    @property\n",
    "    def XeSUV(self):\n",
    "        return f\" {Automobile.__str__(self)} Pass_cap:  {self.pass_cap}\"\n",
    "    @XeSUV.setter\n",
    "    def Set(self,make,year,mileage,price,pass_cap):\n",
    "        self.make=make\n",
    "        self.year=year\n",
    "        self.mileage=mileage\n",
    "        self.price=price\n",
    "        self.pass_cap=pass_cap\n",
    "    @XeSUV.setter\n",
    "    def Set(self,obj):\n",
    "        self.make=obj.make\n",
    "        self.year=obj.year\n",
    "        self.mileage=obj.mileage\n",
    "        self.price=obj.price\n",
    "        self.pass_cap=obj.pass_cap\n",
    "    def get_pass_cap (self):\n",
    "        return __pass_cap\n",
    "# newTruck=Truck(\"Lexus\",2019,13,570000000,\"6 BANH\")\n",
    "# newTruck.__str__()\n",
    "# newSUV=SUV(\"Porsche\",2017,12,740000000,\"5 tan\")\n",
    "# newSUV.__str__()"
   ]
  },
  {
   "cell_type": "code",
   "execution_count": 65,
   "metadata": {},
   "outputs": [
    {
     "data": {
      "text/plain": [
       "'Toyota'"
      ]
     },
     "execution_count": 65,
     "metadata": {},
     "output_type": "execute_result"
    }
   ],
   "source": [
    "# test your code here\n",
    "newCar=Car(\"Toyota\",2020,10,462000000,8)\n",
    "newCar.__str__()\n",
    "newCar.get_make()"
   ]
  },
  {
   "cell_type": "markdown",
   "metadata": {},
   "source": [
    "# Bài 3 - Polymorphism\n",
    "\n",
    "- Tạo lớp `Animal` gồm thuộc tính  `__species` (loài).\n",
    "\n",
    "- Định nghĩa phương thức `__init__` cho lớp `Animal` để khởi tạo thuộc tính này.\n",
    "\n",
    "- Định nghĩa phương thức `__str__` để trả về chuỗi gồm thuộc tính trên để cung cấp thông tin về một `animal` cụ thể.\n",
    "\n",
    "- Định nghĩa phương thức `speak` để trả về chuỗi mô tả tiếng kêu của một `animal` cụ thể.\n",
    "\n",
    "- Tạo các lớp `Dog`, `Cat`, `Bird`, `Fish` kế thừa lớp `Animal`. Overide lại các phương thức `__init__`, `__str__`, và `speak` một cách phù hợp.\n",
    "\n",
    "- Tạo một danh sách các `object` của các lớp `Animal`, `Dog`, `Cat`, `Bird` và `Fish` với các giá trị thuộc tính cụ thể.\n",
    "\n",
    "- Duyệt qua danh sách để in ra thông tin của các động vật và tiếng kêu của chúng."
   ]
  },
  {
   "cell_type": "code",
   "execution_count": 44,
   "metadata": {},
   "outputs": [],
   "source": [
    "# write your code here\n",
    "class Animal :\n",
    "    def __init__ (self,species) :\n",
    "        self.__species = species\n",
    "    def __str__(self):\n",
    "        return f\"Loai: {self.__species} \"\n",
    "    def speak(self):\n",
    "        return f\"Tieng keu: \"\n",
    "\n",
    "\n",
    "class Dog (Animal):\n",
    "    def speak(self):\n",
    "        return f\"{Animal.speak(self)} Grau Grau\" \n",
    "\n",
    "class Cat (Animal):\n",
    "    def speak(self):\n",
    "        return f\"{Animal.speak(self)} Meo Meo\" \n",
    "\n",
    "class Bird (Animal):\n",
    "    def speak(self):\n",
    "        return f\"{Animal.speak(self)} Chip chip\" \n",
    "\n",
    "\n",
    "class Fish (Animal):\n",
    "    def speak(self):\n",
    "        return f\"{Animal.speak(self)} Gru Gru\" "
   ]
  },
  {
   "cell_type": "code",
   "execution_count": 47,
   "metadata": {},
   "outputs": [
    {
     "data": {
      "text/plain": [
       "'Loai: pitbull '"
      ]
     },
     "execution_count": 47,
     "metadata": {},
     "output_type": "execute_result"
    }
   ],
   "source": [
    "# test your code here\n",
    "myDog= Dog(\"pitbull\")\n",
    "myDog.speak()\n",
    "myDog.__str__()"
   ]
  },
  {
   "cell_type": "code",
   "execution_count": 48,
   "metadata": {},
   "outputs": [
    {
     "data": {
      "text/plain": [
       "'Tieng keu:  Grau Grau'"
      ]
     },
     "execution_count": 48,
     "metadata": {},
     "output_type": "execute_result"
    }
   ],
   "source": [
    "myDog.speak()"
   ]
  },
  {
   "cell_type": "code",
   "execution_count": 51,
   "metadata": {},
   "outputs": [
    {
     "data": {
      "text/plain": [
       "'Tieng keu:  Meo Meo'"
      ]
     },
     "execution_count": 51,
     "metadata": {},
     "output_type": "execute_result"
    }
   ],
   "source": [
    "myCat=Cat(\"bengal\")\n",
    "myCat.speak()"
   ]
  },
  {
   "cell_type": "code",
   "execution_count": 52,
   "metadata": {},
   "outputs": [
    {
     "data": {
      "text/plain": [
       "'Loai: bengal '"
      ]
     },
     "execution_count": 52,
     "metadata": {},
     "output_type": "execute_result"
    }
   ],
   "source": [
    "myCat.__str__()"
   ]
  },
  {
   "cell_type": "code",
   "execution_count": 58,
   "metadata": {},
   "outputs": [
    {
     "data": {
      "text/plain": [
       "'Tieng keu:  Gru Gru'"
      ]
     },
     "execution_count": 58,
     "metadata": {},
     "output_type": "execute_result"
    }
   ],
   "source": [
    "myFish=Fish(\"Ca dieu hong\")\n",
    "myFish.speak()"
   ]
  },
  {
   "cell_type": "code",
   "execution_count": 59,
   "metadata": {},
   "outputs": [
    {
     "data": {
      "text/plain": [
       "'Loai: Ca dieu hong '"
      ]
     },
     "execution_count": 59,
     "metadata": {},
     "output_type": "execute_result"
    }
   ],
   "source": [
    "myFish.__str__()"
   ]
  },
  {
   "cell_type": "code",
   "execution_count": null,
   "metadata": {},
   "outputs": [],
   "source": []
  }
 ],
 "metadata": {
  "kernelspec": {
   "display_name": "Python 3 (ipykernel)",
   "language": "python",
   "name": "python3"
  },
  "language_info": {
   "codemirror_mode": {
    "name": "ipython",
    "version": 3
   },
   "file_extension": ".py",
   "mimetype": "text/x-python",
   "name": "python",
   "nbconvert_exporter": "python",
   "pygments_lexer": "ipython3",
   "version": "3.9.7"
  },
  "metadata": {
   "interpreter": {
    "hash": "e404b59586357c814bc0d3940e75d6763c00a48753b225b81f7716971b8e1741"
   }
  }
 },
 "nbformat": 4,
 "nbformat_minor": 4
}
