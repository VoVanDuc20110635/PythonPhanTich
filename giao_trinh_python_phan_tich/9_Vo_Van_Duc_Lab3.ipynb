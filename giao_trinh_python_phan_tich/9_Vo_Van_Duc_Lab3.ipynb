{
 "cells": [
  {
   "cell_type": "markdown",
   "metadata": {},
   "source": [
    "## Lab 3 - Suy luận thống kê\n",
    "\n",
    "**Họ tên**: Vo Van Duc\n",
    "\n",
    "**MSSV**: 20110635\n",
    "\n",
    "**STT**: 9"
   ]
  },
  {
   "cell_type": "markdown",
   "metadata": {},
   "source": [
    "## Giới thiệu\n",
    "\n",
    "Một nhóm nghiên cứu điều tra tốc độ đánh máy bằng tiếng Anh bằng hai hệ thống máy tính:\n",
    "\n",
    "- **NO HELP**: Không có trợ giúp sửa lỗi chính tả tự động được cung cấp bởi hệ thống.\n",
    "\n",
    "- **AUTO-CORRECTION**: Hệ thống liên tục cố gắng tự động sửa lỗi chính tả.\n",
    "\n",
    "Các nhà nghiên cứu thử nghiệm hai bàn phím khác nhau: (i) bàn phím **QWERTY** và (ii) **AZERTY**.\n",
    "\n",
    "Các nhà nghiên cứu đưa ra giả thuyết $H_1$ rằng nhập văn bản với tính năng sửa lỗi tự động (**AUTO-CORRECTION**) nhanh hơn so với nhập liệu không có trợ giúp (**NO HELP**). Họ cũng đưa ra giả thuyết $H_2$ rằng gõ bằng bàn phím **AZERTY** nhanh hơn gõ bằng bàn phím **QWERTY**.\n",
    "\n",
    "Để kiểm tra hai giả thuyết này ($H_1$ và $H_2$), nhóm nghiên cứu tiến hành một cuộc thử nghiệm với 32 người nói tiếng Anh tham gia. Những người tham gia được chia thành hai nhóm độc lập, mỗi nhóm có 16 người. Ở nhóm đầu tiên ($G_1$), người tham gia sử dụng bàn phím **AZERTY**. Trong khi đó, ở nhóm thứ hai ($G_2$), người tham gia sử dụng bàn phím **QWERTY**. Tất cả 32 người tham gia thử nghiệm lần lượt cả hệ thống không có trợ giúp (**NO HELP**) và sửa lỗi tự động (**AUTO-CORRECTION**).\n",
    "\n",
    "Để giảm sự sai lệch do tác động của thứ tự (do mệt mỏi hoặc tốn thời gian học), các nhà nghiên cứu thay đổi thứ tự trình bày của hai hệ thống như sau. Đối với mỗi loại bàn phím, đầu tiên, một nửa số người tham gia sử dụng hệ thống không có trợ giúp (**NO HELP**) và sau đó là hệ thống sửa lỗi tự động (**AUTO-CORRECTION**). Một nửa số người tham gia còn lại sử dụng chúng theo thứ tự ngược lại.\n",
    "\n",
    "Để đánh giá hiệu suất đánh máy, các nhà nghiên cứu đo số từ gõ được trung bình mỗi phút (WPM)."
   ]
  },
  {
   "cell_type": "markdown",
   "metadata": {},
   "source": [
    "\n",
    "## Bước 1. Thu thập dữ liệu\n",
    "\n",
    "Giả sử các nhà nghiên cứu đã hoàn thành thí nghiệm và đã thu thập được kết quả. Ở đây, chúng ta mô phỏng quá trình tạo dữ liệu bằng cách lấy mẫu ngẫu nhiên từ một số quần thể cố định. Để tạo dữ liệu, bạn sẽ sử dụng đoạn mã bên dưới. Bạn chỉ cần chạy đoạn mã và sau đó sử dụng biến `data` làm tập dữ liệu của mình. Lưu ý rằng mỗi bạn sẽ tạo một tập dữ liệu khác nhau tùy vào mã số sinh viên (MSSV) và số thứ tự (STT) của mình (bạn cần thay đổi biến `MSSV` và `STT` cho đúng với MSSV và STT của bạn ở đoạn mã bên dưới), vì vậy kết luận của các phân tích của mỗi bạn có thể khác nhau.\n",
    "\n",
    "Dữ liệu chứa năm cột với thông tin sau: (i) mã số người tham gia (`id`), (ii) loại bàn phím (`keyboard`: qwerty hoặc azerty), (iii) hệ thống (`system`: nohelp hoặc autocorrection), (iv) thứ tự trình bày của hệ thống (`systemorder`: 1 hoặc 2) và (v) số từ được gõ trung bình mỗi phút (`wpm`). Vì bạn không được yêu cầu phân tích ảnh hưởng của thứ tự trình bày của hệ thống, bạn có thể bỏ qua cột thứ 4 (thứ tự hệ thống).\n"
   ]
  },
  {
   "cell_type": "code",
   "execution_count": 3,
   "metadata": {},
   "outputs": [
    {
     "data": {
      "text/html": [
       "<div>\n",
       "<style scoped>\n",
       "    .dataframe tbody tr th:only-of-type {\n",
       "        vertical-align: middle;\n",
       "    }\n",
       "\n",
       "    .dataframe tbody tr th {\n",
       "        vertical-align: top;\n",
       "    }\n",
       "\n",
       "    .dataframe thead th {\n",
       "        text-align: right;\n",
       "    }\n",
       "</style>\n",
       "<table border=\"1\" class=\"dataframe\">\n",
       "  <thead>\n",
       "    <tr style=\"text-align: right;\">\n",
       "      <th></th>\n",
       "      <th>id</th>\n",
       "      <th>keyboard</th>\n",
       "      <th>system</th>\n",
       "      <th>systemorder</th>\n",
       "      <th>wpm</th>\n",
       "    </tr>\n",
       "  </thead>\n",
       "  <tbody>\n",
       "    <tr>\n",
       "      <th>0</th>\n",
       "      <td>0</td>\n",
       "      <td>azerty</td>\n",
       "      <td>nohelp</td>\n",
       "      <td>1</td>\n",
       "      <td>43.6</td>\n",
       "    </tr>\n",
       "    <tr>\n",
       "      <th>1</th>\n",
       "      <td>1</td>\n",
       "      <td>azerty</td>\n",
       "      <td>nohelp</td>\n",
       "      <td>1</td>\n",
       "      <td>23.4</td>\n",
       "    </tr>\n",
       "    <tr>\n",
       "      <th>2</th>\n",
       "      <td>2</td>\n",
       "      <td>azerty</td>\n",
       "      <td>nohelp</td>\n",
       "      <td>1</td>\n",
       "      <td>28.9</td>\n",
       "    </tr>\n",
       "    <tr>\n",
       "      <th>3</th>\n",
       "      <td>3</td>\n",
       "      <td>azerty</td>\n",
       "      <td>nohelp</td>\n",
       "      <td>1</td>\n",
       "      <td>22.6</td>\n",
       "    </tr>\n",
       "    <tr>\n",
       "      <th>4</th>\n",
       "      <td>4</td>\n",
       "      <td>azerty</td>\n",
       "      <td>nohelp</td>\n",
       "      <td>1</td>\n",
       "      <td>25.2</td>\n",
       "    </tr>\n",
       "  </tbody>\n",
       "</table>\n",
       "</div>"
      ],
      "text/plain": [
       "   id keyboard  system  systemorder   wpm\n",
       "0   0   azerty  nohelp            1  43.6\n",
       "1   1   azerty  nohelp            1  23.4\n",
       "2   2   azerty  nohelp            1  28.9\n",
       "3   3   azerty  nohelp            1  22.6\n",
       "4   4   azerty  nohelp            1  25.2"
      ]
     },
     "execution_count": 3,
     "metadata": {},
     "output_type": "execute_result"
    }
   ],
   "source": [
    "import numpy as np\n",
    "import pandas as pd\n",
    "from scipy.stats import norm\n",
    "\n",
    "MSSV = 20110635 # Thay giá trị này thành MSSV của bạn\n",
    "STT = 9 # Thay giá trị này thành STT của bạn\n",
    "\n",
    "# Nhóm azerty\n",
    "m1_no = 29.4 # No Help\n",
    "m1_yes = 36.5 # Auto-Correction\n",
    "\n",
    "# Nhóm qwerty\n",
    "m2_no = 28.1 # No Help\n",
    "m2_yes = 37.2 # Auto-Correction\n",
    "\n",
    "# standard deviation\n",
    "sd = 8\n",
    "\n",
    "# within-participant variability\n",
    "dwpm_1 = norm.rvs(loc=0, scale=5, size=8, random_state=MSSV)\n",
    "dwpm_2 = norm.rvs(loc=0, scale=5, size=8, random_state=STT)\n",
    "\n",
    "# Datafame cho azerty group\n",
    "df1 = pd.DataFrame({\n",
    "    'id': list(range(8)), \n",
    "    'keyboard': np.repeat(\"azerty\", 8), \n",
    "    'system': np.repeat(\"nohelp\", 8), \n",
    "    'systemorder': np.repeat(1, 8), \n",
    "    'wpm': norm.rvs(loc=m1_no, scale=sd, size=8, random_state=STT) + dwpm_1\n",
    "})\n",
    "\n",
    "df2 = pd.DataFrame({\n",
    "    'id': range(8), \n",
    "    'keyboard': np.repeat(\"azerty\", 8), \n",
    "    'system': np.repeat(\"autocorrection\", 8), \n",
    "    'systemorder': np.repeat(2, 8), \n",
    "    'wpm': norm.rvs(loc=m1_yes, scale=sd, size=8, random_state=STT*10) + dwpm_1\n",
    "})\n",
    "\n",
    "df3 = pd.DataFrame({\n",
    "    'id': range(8,16), \n",
    "    'keyboard': np.repeat(\"azerty\", 8), \n",
    "    'system': np.repeat(\"autocorrection\", 8), \n",
    "    'systemorder': np.repeat(1, 8), \n",
    "    'wpm': norm.rvs(loc=m1_yes, scale=sd, size=8, random_state=STT*100) + dwpm_1\n",
    "})\n",
    "\n",
    "df4 = pd.DataFrame({\n",
    "    'id': range(8,16), \n",
    "    'keyboard': np.repeat(\"azerty\", 8), \n",
    "    'system': np.repeat(\"nohelp\", 8), \n",
    "    'systemorder': np.repeat(2, 8), \n",
    "    'wpm': norm.rvs(loc=m1_no, scale=sd, size=8, random_state=STT*10**3) + dwpm_1\n",
    "})\n",
    "\n",
    "# Datafame cho qwerty group\n",
    "df5 = pd.DataFrame({\n",
    "    'id': range(16,24), \n",
    "    'keyboard': np.repeat(\"qwerty\", 8), \n",
    "    'system': np.repeat(\"nohelp\", 8), \n",
    "    'systemorder': np.repeat(1, 8), \n",
    "    'wpm': norm.rvs(loc=m2_no, scale=sd, size=8, random_state=STT*10**4) + dwpm_2\n",
    "})\n",
    "\n",
    "df6 = pd.DataFrame({\n",
    "    'id': range(16,24), \n",
    "    'keyboard': np.repeat(\"qwerty\", 8), \n",
    "    'system': np.repeat(\"autocorrection\", 8), \n",
    "    'systemorder': np.repeat(2, 8), \n",
    "    'wpm': norm.rvs(loc=m2_yes, scale=sd, size=8, random_state=STT*10**5) + dwpm_2\n",
    "})\n",
    "\n",
    "df7 = pd.DataFrame({\n",
    "    'id': range(24,32), \n",
    "    'keyboard': np.repeat(\"qwerty\", 8), \n",
    "    'system': np.repeat(\"autocorrection\", 8), \n",
    "    'systemorder': np.repeat(1, 8), \n",
    "    'wpm': norm.rvs(loc=m2_yes, scale=sd, size=8, random_state=STT*10**6) + dwpm_2\n",
    "})\n",
    "\n",
    "df8 = pd.DataFrame({\n",
    "    'id': range(24,32), \n",
    "    'keyboard': np.repeat(\"qwerty\", 8), \n",
    "    'system': np.repeat(\"nohelp\", 8), \n",
    "    'systemorder': np.repeat(2, 8), \n",
    "    'wpm': norm.rvs(loc=m2_no, scale=sd, size=8, random_state=STT*10**7) + dwpm_2\n",
    "})\n",
    "\n",
    "# Kết hợp dữ liệu của hai nhóm\n",
    "data = pd.concat([df1, df2, df3, df4, df5, df6, df7, df8], ignore_index=True)\n",
    "\n",
    "# Làm tròn một chữ số thập phân\n",
    "data[\"wpm\"] = data[\"wpm\"].round(1)\n",
    "\n",
    "# Sắp xếp theo id\n",
    "data.sort_values(by=['id'])\n",
    "\n",
    "data.head()"
   ]
  },
  {
   "cell_type": "markdown",
   "metadata": {},
   "source": [
    "## Bước 2. Thống kê mô tả\n",
    "\n",
    "Viết mã để tính toán thống kê mô tả cho dữ liệu thử nghiệm của bạn. Thống kê mô tả sẽ bao gồm **trung bình (mean)**, **trung vị (median)** và **độ lệch chuẩn (standard deviation)** (i) đối với từng loại bàn phím riêng lẻ (AZERTY và QWERTY) và (ii) đối với từng hệ thống (NO HELP và AUTO-CORRECTION).\n"
   ]
  },
  {
   "cell_type": "code",
   "execution_count": 4,
   "metadata": {},
   "outputs": [
    {
     "name": "stdout",
     "output_type": "stream",
     "text": [
      "Thong ke ban phim azerty:\n"
     ]
    },
    {
     "data": {
      "text/html": [
       "<div>\n",
       "<style scoped>\n",
       "    .dataframe tbody tr th:only-of-type {\n",
       "        vertical-align: middle;\n",
       "    }\n",
       "\n",
       "    .dataframe tbody tr th {\n",
       "        vertical-align: top;\n",
       "    }\n",
       "\n",
       "    .dataframe thead th {\n",
       "        text-align: right;\n",
       "    }\n",
       "</style>\n",
       "<table border=\"1\" class=\"dataframe\">\n",
       "  <thead>\n",
       "    <tr style=\"text-align: right;\">\n",
       "      <th></th>\n",
       "      <th>id</th>\n",
       "      <th>systemorder</th>\n",
       "      <th>wpm</th>\n",
       "    </tr>\n",
       "  </thead>\n",
       "  <tbody>\n",
       "    <tr>\n",
       "      <th>count</th>\n",
       "      <td>32.000000</td>\n",
       "      <td>32.000000</td>\n",
       "      <td>32.000000</td>\n",
       "    </tr>\n",
       "    <tr>\n",
       "      <th>mean</th>\n",
       "      <td>7.500000</td>\n",
       "      <td>1.500000</td>\n",
       "      <td>32.840625</td>\n",
       "    </tr>\n",
       "    <tr>\n",
       "      <th>std</th>\n",
       "      <td>4.683533</td>\n",
       "      <td>0.508001</td>\n",
       "      <td>8.486835</td>\n",
       "    </tr>\n",
       "    <tr>\n",
       "      <th>min</th>\n",
       "      <td>0.000000</td>\n",
       "      <td>1.000000</td>\n",
       "      <td>13.500000</td>\n",
       "    </tr>\n",
       "    <tr>\n",
       "      <th>25%</th>\n",
       "      <td>3.750000</td>\n",
       "      <td>1.000000</td>\n",
       "      <td>26.600000</td>\n",
       "    </tr>\n",
       "    <tr>\n",
       "      <th>50%</th>\n",
       "      <td>7.500000</td>\n",
       "      <td>1.500000</td>\n",
       "      <td>31.000000</td>\n",
       "    </tr>\n",
       "    <tr>\n",
       "      <th>75%</th>\n",
       "      <td>11.250000</td>\n",
       "      <td>2.000000</td>\n",
       "      <td>39.975000</td>\n",
       "    </tr>\n",
       "    <tr>\n",
       "      <th>max</th>\n",
       "      <td>15.000000</td>\n",
       "      <td>2.000000</td>\n",
       "      <td>49.900000</td>\n",
       "    </tr>\n",
       "  </tbody>\n",
       "</table>\n",
       "</div>"
      ],
      "text/plain": [
       "              id  systemorder        wpm\n",
       "count  32.000000    32.000000  32.000000\n",
       "mean    7.500000     1.500000  32.840625\n",
       "std     4.683533     0.508001   8.486835\n",
       "min     0.000000     1.000000  13.500000\n",
       "25%     3.750000     1.000000  26.600000\n",
       "50%     7.500000     1.500000  31.000000\n",
       "75%    11.250000     2.000000  39.975000\n",
       "max    15.000000     2.000000  49.900000"
      ]
     },
     "execution_count": 4,
     "metadata": {},
     "output_type": "execute_result"
    }
   ],
   "source": [
    "# Viết code của bạn ở đây\n",
    "print('Thong ke ban phim azerty:')\n",
    "isAzerty = data['keyboard'] == 'azerty'\n",
    "azerty = data[isAzerty]\n",
    "azerty.describe()"
   ]
  },
  {
   "cell_type": "code",
   "execution_count": 5,
   "metadata": {
    "scrolled": true
   },
   "outputs": [
    {
     "name": "stdout",
     "output_type": "stream",
     "text": [
      "Thong ke ban phim qwerty:\n"
     ]
    },
    {
     "data": {
      "text/html": [
       "<div>\n",
       "<style scoped>\n",
       "    .dataframe tbody tr th:only-of-type {\n",
       "        vertical-align: middle;\n",
       "    }\n",
       "\n",
       "    .dataframe tbody tr th {\n",
       "        vertical-align: top;\n",
       "    }\n",
       "\n",
       "    .dataframe thead th {\n",
       "        text-align: right;\n",
       "    }\n",
       "</style>\n",
       "<table border=\"1\" class=\"dataframe\">\n",
       "  <thead>\n",
       "    <tr style=\"text-align: right;\">\n",
       "      <th></th>\n",
       "      <th>id</th>\n",
       "      <th>systemorder</th>\n",
       "      <th>wpm</th>\n",
       "    </tr>\n",
       "  </thead>\n",
       "  <tbody>\n",
       "    <tr>\n",
       "      <th>count</th>\n",
       "      <td>32.000000</td>\n",
       "      <td>32.000000</td>\n",
       "      <td>32.000000</td>\n",
       "    </tr>\n",
       "    <tr>\n",
       "      <th>mean</th>\n",
       "      <td>23.500000</td>\n",
       "      <td>1.500000</td>\n",
       "      <td>31.384375</td>\n",
       "    </tr>\n",
       "    <tr>\n",
       "      <th>std</th>\n",
       "      <td>4.683533</td>\n",
       "      <td>0.508001</td>\n",
       "      <td>9.239680</td>\n",
       "    </tr>\n",
       "    <tr>\n",
       "      <th>min</th>\n",
       "      <td>16.000000</td>\n",
       "      <td>1.000000</td>\n",
       "      <td>17.800000</td>\n",
       "    </tr>\n",
       "    <tr>\n",
       "      <th>25%</th>\n",
       "      <td>19.750000</td>\n",
       "      <td>1.000000</td>\n",
       "      <td>24.225000</td>\n",
       "    </tr>\n",
       "    <tr>\n",
       "      <th>50%</th>\n",
       "      <td>23.500000</td>\n",
       "      <td>1.500000</td>\n",
       "      <td>31.200000</td>\n",
       "    </tr>\n",
       "    <tr>\n",
       "      <th>75%</th>\n",
       "      <td>27.250000</td>\n",
       "      <td>2.000000</td>\n",
       "      <td>40.175000</td>\n",
       "    </tr>\n",
       "    <tr>\n",
       "      <th>max</th>\n",
       "      <td>31.000000</td>\n",
       "      <td>2.000000</td>\n",
       "      <td>52.600000</td>\n",
       "    </tr>\n",
       "  </tbody>\n",
       "</table>\n",
       "</div>"
      ],
      "text/plain": [
       "              id  systemorder        wpm\n",
       "count  32.000000    32.000000  32.000000\n",
       "mean   23.500000     1.500000  31.384375\n",
       "std     4.683533     0.508001   9.239680\n",
       "min    16.000000     1.000000  17.800000\n",
       "25%    19.750000     1.000000  24.225000\n",
       "50%    23.500000     1.500000  31.200000\n",
       "75%    27.250000     2.000000  40.175000\n",
       "max    31.000000     2.000000  52.600000"
      ]
     },
     "execution_count": 5,
     "metadata": {},
     "output_type": "execute_result"
    }
   ],
   "source": [
    "print('Thong ke ban phim qwerty:')\n",
    "isQwerty = data['keyboard'] == 'qwerty'\n",
    "qwerty = data[isQwerty]\n",
    "qwerty.describe()"
   ]
  },
  {
   "cell_type": "code",
   "execution_count": 6,
   "metadata": {
    "scrolled": true
   },
   "outputs": [
    {
     "name": "stdout",
     "output_type": "stream",
     "text": [
      "Thong ke he thong No Help:\n"
     ]
    },
    {
     "data": {
      "text/html": [
       "<div>\n",
       "<style scoped>\n",
       "    .dataframe tbody tr th:only-of-type {\n",
       "        vertical-align: middle;\n",
       "    }\n",
       "\n",
       "    .dataframe tbody tr th {\n",
       "        vertical-align: top;\n",
       "    }\n",
       "\n",
       "    .dataframe thead th {\n",
       "        text-align: right;\n",
       "    }\n",
       "</style>\n",
       "<table border=\"1\" class=\"dataframe\">\n",
       "  <thead>\n",
       "    <tr style=\"text-align: right;\">\n",
       "      <th></th>\n",
       "      <th>id</th>\n",
       "      <th>systemorder</th>\n",
       "      <th>wpm</th>\n",
       "    </tr>\n",
       "  </thead>\n",
       "  <tbody>\n",
       "    <tr>\n",
       "      <th>count</th>\n",
       "      <td>32.000000</td>\n",
       "      <td>32.000000</td>\n",
       "      <td>32.000000</td>\n",
       "    </tr>\n",
       "    <tr>\n",
       "      <th>mean</th>\n",
       "      <td>15.500000</td>\n",
       "      <td>1.500000</td>\n",
       "      <td>28.146875</td>\n",
       "    </tr>\n",
       "    <tr>\n",
       "      <th>std</th>\n",
       "      <td>9.380832</td>\n",
       "      <td>0.508001</td>\n",
       "      <td>7.426717</td>\n",
       "    </tr>\n",
       "    <tr>\n",
       "      <th>min</th>\n",
       "      <td>0.000000</td>\n",
       "      <td>1.000000</td>\n",
       "      <td>13.500000</td>\n",
       "    </tr>\n",
       "    <tr>\n",
       "      <th>25%</th>\n",
       "      <td>7.750000</td>\n",
       "      <td>1.000000</td>\n",
       "      <td>23.200000</td>\n",
       "    </tr>\n",
       "    <tr>\n",
       "      <th>50%</th>\n",
       "      <td>15.500000</td>\n",
       "      <td>1.500000</td>\n",
       "      <td>26.750000</td>\n",
       "    </tr>\n",
       "    <tr>\n",
       "      <th>75%</th>\n",
       "      <td>23.250000</td>\n",
       "      <td>2.000000</td>\n",
       "      <td>33.125000</td>\n",
       "    </tr>\n",
       "    <tr>\n",
       "      <th>max</th>\n",
       "      <td>31.000000</td>\n",
       "      <td>2.000000</td>\n",
       "      <td>43.600000</td>\n",
       "    </tr>\n",
       "  </tbody>\n",
       "</table>\n",
       "</div>"
      ],
      "text/plain": [
       "              id  systemorder        wpm\n",
       "count  32.000000    32.000000  32.000000\n",
       "mean   15.500000     1.500000  28.146875\n",
       "std     9.380832     0.508001   7.426717\n",
       "min     0.000000     1.000000  13.500000\n",
       "25%     7.750000     1.000000  23.200000\n",
       "50%    15.500000     1.500000  26.750000\n",
       "75%    23.250000     2.000000  33.125000\n",
       "max    31.000000     2.000000  43.600000"
      ]
     },
     "execution_count": 6,
     "metadata": {},
     "output_type": "execute_result"
    }
   ],
   "source": [
    "print('Thong ke he thong No Help:')\n",
    "isNoHelp = data['system'] == 'nohelp'\n",
    "nohelp = data[isNoHelp]\n",
    "nohelp.describe()"
   ]
  },
  {
   "cell_type": "code",
   "execution_count": 7,
   "metadata": {},
   "outputs": [
    {
     "name": "stdout",
     "output_type": "stream",
     "text": [
      "Thong ke he thong AUTO-CORRECTION:\n"
     ]
    },
    {
     "data": {
      "text/html": [
       "<div>\n",
       "<style scoped>\n",
       "    .dataframe tbody tr th:only-of-type {\n",
       "        vertical-align: middle;\n",
       "    }\n",
       "\n",
       "    .dataframe tbody tr th {\n",
       "        vertical-align: top;\n",
       "    }\n",
       "\n",
       "    .dataframe thead th {\n",
       "        text-align: right;\n",
       "    }\n",
       "</style>\n",
       "<table border=\"1\" class=\"dataframe\">\n",
       "  <thead>\n",
       "    <tr style=\"text-align: right;\">\n",
       "      <th></th>\n",
       "      <th>id</th>\n",
       "      <th>systemorder</th>\n",
       "      <th>wpm</th>\n",
       "    </tr>\n",
       "  </thead>\n",
       "  <tbody>\n",
       "    <tr>\n",
       "      <th>count</th>\n",
       "      <td>32.000000</td>\n",
       "      <td>32.000000</td>\n",
       "      <td>32.000000</td>\n",
       "    </tr>\n",
       "    <tr>\n",
       "      <th>mean</th>\n",
       "      <td>15.500000</td>\n",
       "      <td>1.500000</td>\n",
       "      <td>36.078125</td>\n",
       "    </tr>\n",
       "    <tr>\n",
       "      <th>std</th>\n",
       "      <td>9.380832</td>\n",
       "      <td>0.508001</td>\n",
       "      <td>8.418403</td>\n",
       "    </tr>\n",
       "    <tr>\n",
       "      <th>min</th>\n",
       "      <td>0.000000</td>\n",
       "      <td>1.000000</td>\n",
       "      <td>20.600000</td>\n",
       "    </tr>\n",
       "    <tr>\n",
       "      <th>25%</th>\n",
       "      <td>7.750000</td>\n",
       "      <td>1.000000</td>\n",
       "      <td>29.525000</td>\n",
       "    </tr>\n",
       "    <tr>\n",
       "      <th>50%</th>\n",
       "      <td>15.500000</td>\n",
       "      <td>1.500000</td>\n",
       "      <td>38.050000</td>\n",
       "    </tr>\n",
       "    <tr>\n",
       "      <th>75%</th>\n",
       "      <td>23.250000</td>\n",
       "      <td>2.000000</td>\n",
       "      <td>41.850000</td>\n",
       "    </tr>\n",
       "    <tr>\n",
       "      <th>max</th>\n",
       "      <td>31.000000</td>\n",
       "      <td>2.000000</td>\n",
       "      <td>52.600000</td>\n",
       "    </tr>\n",
       "  </tbody>\n",
       "</table>\n",
       "</div>"
      ],
      "text/plain": [
       "              id  systemorder        wpm\n",
       "count  32.000000    32.000000  32.000000\n",
       "mean   15.500000     1.500000  36.078125\n",
       "std     9.380832     0.508001   8.418403\n",
       "min     0.000000     1.000000  20.600000\n",
       "25%     7.750000     1.000000  29.525000\n",
       "50%    15.500000     1.500000  38.050000\n",
       "75%    23.250000     2.000000  41.850000\n",
       "max    31.000000     2.000000  52.600000"
      ]
     },
     "execution_count": 7,
     "metadata": {},
     "output_type": "execute_result"
    }
   ],
   "source": [
    "print('Thong ke he thong AUTO-CORRECTION:')\n",
    "isAutoCorrection = data['system'] == 'autocorrection'\n",
    "autocorrection = data[isAutoCorrection]\n",
    "autocorrection.describe()"
   ]
  },
  {
   "cell_type": "markdown",
   "metadata": {},
   "source": [
    "### Nhận xét\n",
    "\n",
    "1. Doi voi tung loai ban phim: nguoi su dung ban phim azerty co WPM trung binh cao hon nguoi su dung ban phim qwerty\n",
    "\n",
    "2. Doi voi tung loai he thong: nguoi su dung he thong Auto-Correction co WPM trung binh cao hon nguoi su dung he thong No Help\n"
   ]
  },
  {
   "cell_type": "markdown",
   "metadata": {},
   "source": [
    "\n",
    "## Bước 3. Vẽ biểu đồ\n",
    "\n",
    "Tạo biểu đồ hộp (boxplot) để tóm tắt bằng đồ thị các phân phối của `wpm` (i) cho hai loại bàn phím và (ii) cho hai hệ thống. Đồng thời tạo ra đồ `qqplot` để đánh giá trực quan mức độ mà các mẫu của bạn sai lệch so với phân phối chuẩn (Normal distribution). Bạn quan sát thấy gì?"
   ]
  },
  {
   "cell_type": "code",
   "execution_count": 8,
   "metadata": {},
   "outputs": [
    {
     "data": {
      "text/plain": [
       "{'whiskers': [<matplotlib.lines.Line2D at 0x1d1e02ddd90>,\n",
       "  <matplotlib.lines.Line2D at 0x1d1e02f80a0>,\n",
       "  <matplotlib.lines.Line2D at 0x1d1e09a1670>,\n",
       "  <matplotlib.lines.Line2D at 0x1d1e09a1a00>],\n",
       " 'caps': [<matplotlib.lines.Line2D at 0x1d1e02f8430>,\n",
       "  <matplotlib.lines.Line2D at 0x1d1e02f87c0>,\n",
       "  <matplotlib.lines.Line2D at 0x1d1e09a1d90>,\n",
       "  <matplotlib.lines.Line2D at 0x1d1e09ae160>],\n",
       " 'boxes': [<matplotlib.lines.Line2D at 0x1d1e02dd940>,\n",
       "  <matplotlib.lines.Line2D at 0x1d1e09a12e0>],\n",
       " 'medians': [<matplotlib.lines.Line2D at 0x1d1e02f8b50>,\n",
       "  <matplotlib.lines.Line2D at 0x1d1e09ae4f0>],\n",
       " 'fliers': [<matplotlib.lines.Line2D at 0x1d1e02f8ee0>,\n",
       "  <matplotlib.lines.Line2D at 0x1d1e09ae880>],\n",
       " 'means': []}"
      ]
     },
     "execution_count": 8,
     "metadata": {},
     "output_type": "execute_result"
    },
    {
     "data": {
      "image/png": "[encoded data removed]",
      "text/plain": [
       "<Figure size 432x288 with 1 Axes>"
      ]
     },
     "metadata": {
      "needs_background": "light"
     },
     "output_type": "display_data"
    }
   ],
   "source": [
    "# Viết code của bạn ở đây\n",
    "import matplotlib.pyplot as plt\n",
    "\n",
    "data_azerty = azerty['wpm']\n",
    "data_qwerty = qwerty['wpm']\n",
    "\n",
    "fig_keyboard, ax_keyboard = plt.subplots()\n",
    "ax_keyboard.set_title('Do thi phan phoi cua wpm cho hai loai ban phim')\n",
    "ax_keyboard.boxplot([data_azerty, data_qwerty])"
   ]
  },
  {
   "cell_type": "code",
   "execution_count": 9,
   "metadata": {
    "scrolled": true
   },
   "outputs": [
    {
     "data": {
      "text/plain": [
       "{'whiskers': [<matplotlib.lines.Line2D at 0x1d1e0a9da60>,\n",
       "  <matplotlib.lines.Line2D at 0x1d1e0a9ddf0>,\n",
       "  <matplotlib.lines.Line2D at 0x1d1e0ab93d0>,\n",
       "  <matplotlib.lines.Line2D at 0x1d1e0ab9760>],\n",
       " 'caps': [<matplotlib.lines.Line2D at 0x1d1e0aad1c0>,\n",
       "  <matplotlib.lines.Line2D at 0x1d1e0aad550>,\n",
       "  <matplotlib.lines.Line2D at 0x1d1e0ab9af0>,\n",
       "  <matplotlib.lines.Line2D at 0x1d1e0ab9e80>],\n",
       " 'boxes': [<matplotlib.lines.Line2D at 0x1d1e0a9d6d0>,\n",
       "  <matplotlib.lines.Line2D at 0x1d1e0ab9040>],\n",
       " 'medians': [<matplotlib.lines.Line2D at 0x1d1e0aad8e0>,\n",
       "  <matplotlib.lines.Line2D at 0x1d1e0ac4250>],\n",
       " 'fliers': [<matplotlib.lines.Line2D at 0x1d1e0aadc70>,\n",
       "  <matplotlib.lines.Line2D at 0x1d1e0ac45e0>],\n",
       " 'means': []}"
      ]
     },
     "execution_count": 9,
     "metadata": {},
     "output_type": "execute_result"
    },
    {
     "data": {
      "image/png": "[encoded data removed]",
      "text/plain": [
       "<Figure size 432x288 with 1 Axes>"
      ]
     },
     "metadata": {
      "needs_background": "light"
     },
     "output_type": "display_data"
    }
   ],
   "source": [
    "# Viết code của bạn ở đây\n",
    "\n",
    "data_nohelp = nohelp['wpm']\n",
    "data_autocorrection = autocorrection['wpm']\n",
    "\n",
    "fig_system, ax_system = plt.subplots()\n",
    "ax_system.set_title('Do thi phan phoi cua wpm cho hai loai he thong')\n",
    "ax_system.boxplot([data_nohelp, data_autocorrection])"
   ]
  },
  {
   "cell_type": "code",
   "execution_count": 10,
   "metadata": {
    "scrolled": true
   },
   "outputs": [
    {
     "data": {
      "image/png": "[encoded data removed]",
      "text/plain": [
       "<Figure size 432x288 with 1 Axes>"
      ]
     },
     "metadata": {
      "needs_background": "light"
     },
     "output_type": "display_data"
    }
   ],
   "source": [
    "import statsmodels.api as sm\n",
    "import pylab as pyl\n",
    "import scipy.stats as stats\n",
    "\n",
    "stats.probplot(data_azerty, dist=\"norm\", plot=pyl)\n",
    "pyl.show()"
   ]
  },
  {
   "cell_type": "code",
   "execution_count": 11,
   "metadata": {
    "scrolled": true
   },
   "outputs": [
    {
     "data": {
      "image/png": "[encoded data removed]",
      "text/plain": [
       "<Figure size 432x288 with 1 Axes>"
      ]
     },
     "metadata": {
      "needs_background": "light"
     },
     "output_type": "display_data"
    }
   ],
   "source": [
    "import statsmodels.api as sm\n",
    "import pylab as pyl\n",
    "import scipy.stats as stats\n",
    "\n",
    "stats.probplot(data_qwerty, dist=\"norm\", plot=pyl)\n",
    "pyl.show()"
   ]
  },
  {
   "cell_type": "code",
   "execution_count": 12,
   "metadata": {
    "scrolled": true
   },
   "outputs": [
    {
     "data": {
      "image/png": "[encoded data removed]",
      "text/plain": [
       "<Figure size 432x288 with 1 Axes>"
      ]
     },
     "metadata": {
      "needs_background": "light"
     },
     "output_type": "display_data"
    }
   ],
   "source": [
    "import statsmodels.api as sm\n",
    "import pylab as pyl\n",
    "import scipy.stats as stats\n",
    "\n",
    "stats.probplot(data_nohelp, dist=\"norm\", plot=pyl)\n",
    "pyl.show()"
   ]
  },
  {
   "cell_type": "code",
   "execution_count": 13,
   "metadata": {},
   "outputs": [
    {
     "data": {
      "image/png": "[encoded data removed]",
      "text/plain": [
       "<Figure size 432x288 with 1 Axes>"
      ]
     },
     "metadata": {
      "needs_background": "light"
     },
     "output_type": "display_data"
    }
   ],
   "source": [
    "import statsmodels.api as sm\n",
    "import pylab as pyl\n",
    "import scipy.stats as stats\n",
    "\n",
    "stats.probplot(data_autocorrection, dist=\"norm\", plot=pyl)\n",
    "pyl.show()"
   ]
  },
  {
   "cell_type": "markdown",
   "metadata": {},
   "source": [
    "### Nhận xét\n",
    "\n",
    "1. Biểu đồ phân phối của WPM cho hai loại bàn phím:\n",
    "\n",
    "2. Với qqplot của các mẫu:\n",
    "       . Phân phối chuẩn.\n",
    "       . Có quan hệ tuyến tính, đường thẳng y = x gần như đi qua các điểm trên biểu đồ.\n",
    "       . Các outlier ở 2 đầu biểu đồ có mức sai lệch nhiều hơn so với phân phối chuẩn.\n"
   ]
  },
  {
   "cell_type": "markdown",
   "metadata": {},
   "source": [
    "\n",
    "## Bước 4. Khoảng tin cậy\n",
    "\n",
    "Giả sử các quần thể có phân bố chuẩn. Viết mã để ước tính `wpm` trung bình cho mỗi hệ thống, cũng như sự khác biệt `wpm` trung bình. Sử dụng khoảng tin cậy 95% để ước tính các giá trị đó. Mã nên bao gồm phần tính toán và cả phần vẽ đồ thị các khoảng tin cậy. Kết luận của bạn là gì? Các kết quả có ủng hộ giả thuyết đầu tiên ($H_1$) của các nhà nghiên cứu không?\n",
    "\n",
    "Tương tự, hãy viết một đoạn mã ước tính `wpm` trung bình cho từng loại bàn phím, cũng như sự khác biệt `wpm` trung bình (độc lập với việc có sử dụng tính năng tự động sửa lỗi hay không). Một lần nữa, hãy sử dụng khoảng tin cậy 95% để ước tính các trung bình đó và bao gồm cả phần tính toán và phần vẽ đồ thị các khoảng tin cậy. Kết luận của bạn bây giờ là gì? Các kết quả có ủng hộ giả thuyết thứ hai ($H_2$) của các nhà nghiên cứu không?"
   ]
  },
  {
   "cell_type": "code",
   "execution_count": 36,
   "metadata": {},
   "outputs": [
    {
     "name": "stdout",
     "output_type": "stream",
     "text": [
      "Ước tính wpm trung bình cho system autocorrection:  (33.55489220538128, 38.60135779461872)\n",
      "Ước tính wpm trung bình cho keyboard azerty:  (30.296881282033407, 35.384368717966595)\n",
      "Ước tính wpm trung bình cho keyboard qwerty:  (28.614982317029597, 34.153767682970404)\n",
      "Ước tính wpm trung bình cho system nohelp:  (25.920878549699786, 30.372871450300217)\n"
     ]
    },
    {
     "data": {
      "text/plain": [
       "Text(0.5, 1.0, 'Khoảng tin cậy wpm trung bình')"
      ]
     },
     "execution_count": 36,
     "metadata": {},
     "output_type": "execute_result"
    },
    {
     "data": {
      "image/png": "[encoded data removed]",
      "text/plain": [
       "<Figure size 432x288 with 1 Axes>"
      ]
     },
     "metadata": {
      "needs_background": "light"
     },
     "output_type": "display_data"
    }
   ],
   "source": [
    "# Viết code của bạn ở đây\n",
    "import math\n",
    "mean_keyboard = data.groupby('keyboard', as_index= False)['wpm'].mean() \n",
    "mean_keyboard.rename(columns={'wpm' : 'mean_wpm'}, inplace = True);\n",
    "\n",
    "standard_deviation_1 = data.groupby('keyboard', as_index= False)['wpm'].std()\n",
    "standard_deviation_1.rename(columns={'wpm' : 'std_wpm'}, inplace = True);\n",
    "\n",
    "mean_system = data.groupby('system', as_index= False)['wpm'].mean()\n",
    "mean_system.rename(columns={'wpm' : 'mean_wpm'}, inplace = True);\n",
    "\n",
    "standard_deviation_2 = data.groupby('system', as_index= False)['wpm'].std()\n",
    "standard_deviation_2 .rename(columns={'wpm' : 'std_wpm'}, inplace = True);\n",
    "\n",
    "#Tính khoảng tin cậy system autocorrection\n",
    "autocorrection_mean = mean_system['mean_wpm'][0] #mean\n",
    "autocorrection_size = len(autocorrection)\n",
    "autocorrection_t_criticial = stats.t.ppf(q = 0.95, df = auto_size - 1)  #điểm giới hạn giữa việc giữ lại hoặc bác bỏ giả thuyết H0 (vô hiệu)\n",
    "autocorrection_standard_deviation = standard_deviation_2['std_wpm'][0] #standard deviation\n",
    "autocorrection_sigma =autocorrection_standard_deviation/math.sqrt(autocorrection_size) #standard deviation estimate\n",
    "autocorrection_margin_of_error = autocorrection_sigma*autocorrection_t_criticial \n",
    "autocorrection_confidence_interval = (autocorrection_mean - autocorrection_margin_of_error, autocorrection_mean + autocorrection_margin_of_error)  #khoảng tin cậy\n",
    "print('Ước tính wpm trung bình cho system autocorrection: ', autocorrection_confidence_interval)\n",
    "\n",
    "#Tính khoảng tin cậy keyboard azerty\n",
    "azerty_mean = mean_keyboard['mean_wpm'][0]  #mean\n",
    "azerty_size = len(azerty)\n",
    "azerty_t_criticial = stats.t.ppf(q = 0.95, df = azerty_size - 1)  #điểm giới hạn giữa việc giữ lại hoặc bác bỏ giả thuyết H0 (vô hiệu)\n",
    "azerty_standard_deviation = standard_deviation_1['std_wpm'][0] #standard deviation\n",
    "azerty_sigma = azerty_standard_deviation/math.sqrt(azerty_size)  #standard deviation estimate\n",
    "azerty_margin_of_error = azerty_sigma*azerty_t_criticial \n",
    "azerty_confidence_interval = (azerty_mean - azerty_margin_of_error, azerty_mean + azerty_margin_of_error) #khoảng tin cậy\n",
    "print('Ước tính wpm trung bình cho keyboard azerty: ', azerty_confidence_interval)\n",
    "\n",
    "#Tính khoảng tin cậy keyboard qwerty\n",
    "qwerty_mean = mean_keyboard['mean_wpm'][1] #mean\n",
    "qwerty_size = len(qwerty)\n",
    "qwerty_t_criticial = stats.t.ppf(q = 0.95, df = qwerty_size - 1)  #điểm giới hạn giữa việc giữ lại hoặc bác bỏ giả thuyết H0 (vô hiệu)\n",
    "qwerty_standard_deviation = standard_deviation_1['std_wpm'][1] #standard deviation\n",
    "qwerty_sigma = qwerty_standard_deviation/math.sqrt(qwerty_size) #standard deviation estimate\n",
    "qwerty_margin_of_error = qwerty_sigma*qwerty_t_criticial \n",
    "qwerty_confidence_interval = (qwerty_mean - qwerty_margin_of_error, qwerty_mean + qwerty_margin_of_error)   #khoảng tin cậy\n",
    "print('Ước tính wpm trung bình cho keyboard qwerty: ', qwerty_confidence_interval)\n",
    "\n",
    "#Tính khoảng tin cậy system nohelp\n",
    "nohelp_mean = mean_system['mean_wpm'][1] #mean \n",
    "nohelp_size = len(nohelp) \n",
    "nohelp_t_criticial = stats.t.ppf(q = 0.95, df = nohelp_size - 1) #điểm giới hạn giữa việc giữ lại hoặc bác bỏ giả thuyết H0 (vô hiệu)\n",
    "nohelp_standard_deviation = standard_deviation_2['std_wpm'][1] #standard deviation\n",
    "nohelp_sigma = nohelp_standard_deviation/math.sqrt(nohelp_size) #standard deviation estimate\n",
    "nohelp_margin_of_error = nohelp_sigma*nohelp_t_criticial \n",
    "nohelp_confidence_interval = (nohelp_mean - nohelp_margin_of_error, nohelp_mean + nohelp_margin_of_error)  #khoảng tin cậy\n",
    "print('Ước tính wpm trung bình cho system nohelp: ', nohelp_confidence_interval)\n",
    "\n",
    "#Vẽ biểu đồ \n",
    "data_dict = {}\n",
    "data_dict['category'] = ['nohelp','autocorrection', 'azerty', 'qwerty']\n",
    "data_dict['lower'] = [nohelp_mean - nohelp_error,autocorrection_mean - autocorrection_error, azerty_mean - azerty_error, qwerty_mean - qwerty_error]\n",
    "data_dict['upper'] = [nohelp_mean + nohelp_error,autocorrection_mean + autocorrection_error, azerty_mean + azerty_error, qwerty_mean + qwerty_error]\n",
    "dataset = pd.DataFrame(data_dict)\n",
    "for lower,upper,y in zip(dataset['lower'],dataset['upper'],range(len(dataset))):\n",
    "    plt.plot((lower,upper),(y,y),color='black')\n",
    "plt.yticks(range(len(dataset)),list(dataset['category']))\n",
    "plt.xlabel('wpm')\n",
    "plt.ylabel('system                        keyboard')\n",
    "plt.title('Khoảng tin cậy wpm trung bình')"
   ]
  },
  {
   "cell_type": "markdown",
   "metadata": {},
   "source": [
    "### Nhận xét và kết luận\n",
    "\n",
    "1. Nhập văn bản với tính năng sửa lỗi tự động (AUTO-CORRECTTION) nhanh hơn so với nhập liệu không có trợ giúp (NO HELP). Kết quả ủng hộ giả thuyết H1.\n",
    "\n",
    "2. Với khoảng tin cậy 95%, gõ bằng bàn phím AZERTY chỉ nhanh hơn gõ bằng bàn phín QWERTY ở phần lower còn phần upper thì không khác biệt nhiều, nên giả thuyết H2 cũng không chắc sẽ đúng: gõ bằng bàn phím AZERTY nhanh hơn gõ bằng bàn phím QWERTY\n",
    "\n"
   ]
  },
  {
   "cell_type": "markdown",
   "metadata": {},
   "source": [
    "\n",
    "## Bước 5. Kiểm định ý nghĩa thống kê\n",
    "\n",
    "Viết một đoạn mã để tiến hành các kiểm định ý nghĩa thống kê thích hợp để kiểm tra hai giả thuyết ($H_1$ và $H_2$). Kết luận của bạn là gì? Kết quả của các phép kiểm định ý nghĩa thống kê có phù hợp với khoảng tin cậy mà bạn đã xây dựng cho Bước 4 không?"
   ]
  },
  {
   "cell_type": "code",
   "execution_count": 48,
   "metadata": {},
   "outputs": [
    {
     "name": "stdout",
     "output_type": "stream",
     "text": [
      "z = 1.6448536269514722\n",
      "T1 = 3.9965679256969286\n",
      "T2 = 0.6566156982034421\n",
      "Giá trị p kiểm định hai phía: p = 0.5138579043104321\n",
      "Vì giả thuyết là kiểm định một phía nên p = p / 2 = 0.5138579043104321 / 2 = 0.25692895215521605\n",
      "Ta có p_value = 0.25692895215521605 > 0.05 ==> Ta chấp nhận H0\n"
     ]
    }
   ],
   "source": [
    "# Viết code của bạn ở đây\n",
    "'''H1: mean_autocorrection > mean_nohelp  nên ta có  H0: mean_autocorrection <= mean_nohelp\n",
    "   \n",
    "   Miền bác bỏ: {T: T > z}; vì sử dụng khoảng tin cậy 95% nên alpha = 0.05 '''\n",
    "z = stats.norm.ppf(0.95)\n",
    "numerator_1 = autocorrection_mean - nohelp_mean\n",
    "denominator_1 = math.sqrt((autocorrection_standard_deviation**2/autocorrection_size) + (nohelp_standard_deviation**2/nohelp_size))\n",
    "T1= numerator_1/denominator_1\n",
    "print('z =',z)\n",
    "print('T1 =',T1)\n",
    "\n",
    "'''H2: mean_azerty > mean_qwerty nên ta có H0: meab_azerty <= mean_qwerty\n",
    "   Miễn bác bỏ: {T: T > z; vì sử dụng khoảng tin cậy 95% nên alpha = 0.05}'''\n",
    "numerator_2 = azerty_mean - qwerty_mean \n",
    "denominator_2 = math.sqrt((azerty_standard_deviation**2/azerty_size) + (qwerty_standard_deviation**2/qwerty_size))\n",
    "T2 = numerator_2/denominator_2\n",
    "print('T2 =', T2)\n",
    "t_s, p = stats.ttest_ind(azerty.wpm, qwerty.wpm)\n",
    "print(f\"Giá trị p kiểm định hai phía: p = {p}\")\n",
    "print(f\"Vì giả thuyết là kiểm định một phía nên p = p / 2 = {p} / 2 = {p/2}\")\n",
    "p = p / 2\n",
    "if (p > 0.05):\n",
    "    print(f\"Ta có p_value = {p} > 0.05 ==> Ta chấp nhận H0\")\n",
    "else:\n",
    "    print(f\"Ta có p_value = {p} < 0.05 ==> Ta bác bỏ H0, chấp nhận H2\")"
   ]
  },
  {
   "cell_type": "markdown",
   "metadata": {},
   "source": [
    "### Nhận xét và kết luận\n",
    "\n",
    "1. Vì T1 > z thuộc miền bác bỏ nên bác bỏ H0 (mean_autocorrection <= mean_nohelp), chấp nhận H1 (mean_autocorrection > mean_nohelp). Vì thế chấp nhận giả thuyết H1. Nhập văn bản với tính năng sửa lỗi tự động (AUTO-CORRECTTION) nhanh hơn so với nhập liệu không có trợ giúp (NO HELP)\n",
    "\n",
    "2. Vì T2 < z không thuộc miền bác bỏ nên không đủ cơ sở để bác bỏ H0. Nhưng p_value lớn hơn 0.05 nên chấp nhận H0, bác bỏ H2. Vậy gõ bằng bàn phím AZERTY nhanh hơn gõ bằng bàn phím QWERTY là không đúng.\n",
    "\n"
   ]
  },
  {
   "cell_type": "code",
   "execution_count": null,
   "metadata": {},
   "outputs": [],
   "source": []
  }
 ],
 "metadata": {
  "interpreter": {
   "hash": "cef9e06bb236b2a8629b07e87a04b187b952a0f661eff5533360a155783f0c33"
  },
  "kernelspec": {
   "display_name": "Python 3 (ipykernel)",
   "language": "python",
   "name": "python3"
  },
  "language_info": {
   "codemirror_mode": {
    "name": "ipython",
    "version": 3
   },
   "file_extension": ".py",
   "mimetype": "text/x-python",
   "name": "python",
   "nbconvert_exporter": "python",
   "pygments_lexer": "ipython3",
   "version": "3.9.7"
  }
 },
 "nbformat": 4,
 "nbformat_minor": 2
}
