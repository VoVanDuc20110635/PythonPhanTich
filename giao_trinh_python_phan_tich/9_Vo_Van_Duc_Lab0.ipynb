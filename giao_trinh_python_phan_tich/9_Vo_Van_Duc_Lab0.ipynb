{
 "cells": [
  {
   "cell_type": "markdown",
   "metadata": {},
   "source": [
    "## Bài 1\n",
    "- Cho số nguyên n, tìm số nhỏ nhất chia hết cho tất cả số nguyên từ 1 đến n. \n",
    "\n",
    "- Ví dụ: n = 10 -> 2520 (2520 là số nhỏ nhất chia hết cho tất cả các số nguyên từ 1 đến 10)."
   ]
  },
  {
   "cell_type": "code",
   "execution_count": 6,
   "metadata": {},
   "outputs": [],
   "source": [
    "def TimSo(n):\n",
    "    # write your code here\n",
    "    t = 5\n",
    "    uscln = 1\n",
    "    bscnn = 1\n",
    "    for i in range(1,n+1,1):\n",
    "        uscln = 1\n",
    "        temp1 = i\n",
    "        temp2 = bscnn\n",
    "        while (temp1 != temp2):\n",
    "            if (temp1 > temp2):\n",
    "                temp1 -= temp2\n",
    "            else:\n",
    "                temp2 -= temp1\n",
    "        uscln = temp1\n",
    "        bscnn = int((i * bscnn) / uscln) \n",
    "    t = bscnn\n",
    "    return t"
   ]
  },
  {
   "cell_type": "code",
   "execution_count": 7,
   "metadata": {},
   "outputs": [
    {
     "data": {
      "text/plain": [
       "2520"
      ]
     },
     "execution_count": 7,
     "metadata": {},
     "output_type": "execute_result"
    }
   ],
   "source": [
    "TimSo(10)"
   ]
  },
  {
   "cell_type": "markdown",
   "metadata": {},
   "source": [
    "## Bài 2a\n",
    "\n",
    "- Viết hàm `moveLeft(lst)` để dịch chuyển các phần tử của danh sách `lst` sang trái một vị trí.\n",
    "\n",
    "- Ví dụ: với `lst = [1, 5, 3, 4, 2]` thì `moveLeft(lst)` trả về `[5, 3, 4, 2, 1]`"
   ]
  },
  {
   "cell_type": "code",
   "execution_count": 8,
   "metadata": {},
   "outputs": [],
   "source": [
    "def moveLeft(lst):\n",
    "    # write your code here\n",
    "    temp = lst[0]\n",
    "    for i in range(0,len(lst),1):\n",
    "        if i == (len(lst)-1):\n",
    "            break\n",
    "        lst[i] = lst[i+1]\n",
    "    lst[len(lst)-1] = temp\n",
    "    return lst"
   ]
  },
  {
   "cell_type": "code",
   "execution_count": 9,
   "metadata": {},
   "outputs": [
    {
     "data": {
      "text/plain": [
       "[5, 3, 4, 2, 1]"
      ]
     },
     "execution_count": 9,
     "metadata": {},
     "output_type": "execute_result"
    }
   ],
   "source": [
    "lst = [1, 5, 3, 4, 2]\n",
    "moveLeft(lst)"
   ]
  },
  {
   "cell_type": "markdown",
   "metadata": {},
   "source": [
    "## Bài 2b\n",
    "\n",
    "- Viết hàm `moveLeft(lst, k)` để dịch chuyển các phần tử của danh sách lst sang trái `k` vị trí.\n",
    "\n",
    "- Ví dụ: với lst = [1, 5, 3, 4, 2] thì moveLeft(lst, 3) trả về [4, 2, 1, 5, 3]"
   ]
  },
  {
   "cell_type": "code",
   "execution_count": 10,
   "metadata": {},
   "outputs": [],
   "source": [
    "def moveLeft(lst, k):\n",
    "    # write your code here\n",
    "    temp = 0\n",
    "    for j in range(0,k,1):\n",
    "        temp = lst[0]\n",
    "        for i in range(0,len(lst),1):\n",
    "            if i == (len(lst)-1):\n",
    "                break\n",
    "            lst[i] = lst[i+1]\n",
    "        lst[len(lst)-1 ] = temp\n",
    "    return lst"
   ]
  },
  {
   "cell_type": "code",
   "execution_count": 11,
   "metadata": {},
   "outputs": [
    {
     "data": {
      "text/plain": [
       "[4, 2, 1, 5, 3]"
      ]
     },
     "execution_count": 11,
     "metadata": {},
     "output_type": "execute_result"
    }
   ],
   "source": [
    "lst = [1, 5, 3, 4, 2]\n",
    "moveLeft(lst, 3)"
   ]
  },
  {
   "cell_type": "markdown",
   "metadata": {},
   "source": [
    "## Bài 3\n",
    "\n",
    "- Viết hàm trả về danh sách gồm các thừa số của số nguyên dương `n` khi phân tích thành nó tích của các thừa số nguyên tố. \n",
    "\n",
    "- Ví dụ: nếu `n = 120` thì hàm trả về danh sách [2, 2, 2, 3, 5] vì `120 = 2 ∗ 2 ∗ 2 ∗ 3 ∗ 5`."
   ]
  },
  {
   "cell_type": "code",
   "execution_count": 12,
   "metadata": {},
   "outputs": [],
   "source": [
    "def PhanTichThuaSo(n):\n",
    "    # write your code here\n",
    "    kq = []\n",
    "    i = 2\n",
    "    kq = []\n",
    "    # phân tích\n",
    "    while (n > 1):\n",
    "        if (n % i == 0):\n",
    "            n = int(n / i)\n",
    "            kq.append(i)\n",
    "        else:\n",
    "            i = i + 1\n",
    "    # nếu listNumbers trống thì add n vào listNumbers\n",
    "    if (len(kq) == 0):\n",
    "        kq.append(n)\n",
    "    return kq"
   ]
  },
  {
   "cell_type": "code",
   "execution_count": 13,
   "metadata": {},
   "outputs": [
    {
     "data": {
      "text/plain": [
       "[2, 2, 2, 3, 5]"
      ]
     },
     "execution_count": 13,
     "metadata": {},
     "output_type": "execute_result"
    }
   ],
   "source": [
    "PhanTichThuaSo(120)"
   ]
  },
  {
   "cell_type": "markdown",
   "metadata": {},
   "source": [
    "## Bài 4\n",
    "- Viết hàm trả về số chữ số 0 của n! = 1 * 2 * 3 * ... * n.\n",
    "\n",
    "- Ví dụ: n = 4 -> 0, n = 5 -> 1, n = 10 -> 2, n = 100 -> 24"
   ]
  },
  {
   "cell_type": "code",
   "execution_count": 14,
   "metadata": {},
   "outputs": [],
   "source": [
    "def SoChuSoKhong(n):\n",
    "    # write your code here\n",
    "    count = 0\n",
    "    giaiThua = 1\n",
    "    for i in range(1,n+1,1):\n",
    "        giaiThua = giaiThua*i\n",
    "    #print(giaiThua)\n",
    "    giaTriDu = 0\n",
    "    while giaiThua > 10:\n",
    "        giaTriDu = giaiThua%10\n",
    "        if giaTriDu == 0:\n",
    "            count = count + 1\n",
    "        giaiThua = giaiThua/10\n",
    "    if giaiThua %10 ==0:\n",
    "        count = count +1\n",
    "    return count"
   ]
  },
  {
   "cell_type": "code",
   "execution_count": 15,
   "metadata": {},
   "outputs": [
    {
     "data": {
      "text/plain": [
       "0"
      ]
     },
     "execution_count": 15,
     "metadata": {},
     "output_type": "execute_result"
    }
   ],
   "source": [
    "SoChuSoKhong(4)"
   ]
  },
  {
   "cell_type": "code",
   "execution_count": 16,
   "metadata": {},
   "outputs": [
    {
     "data": {
      "text/plain": [
       "1"
      ]
     },
     "execution_count": 16,
     "metadata": {},
     "output_type": "execute_result"
    }
   ],
   "source": [
    "SoChuSoKhong(5)"
   ]
  },
  {
   "cell_type": "code",
   "execution_count": 17,
   "metadata": {},
   "outputs": [
    {
     "data": {
      "text/plain": [
       "2"
      ]
     },
     "execution_count": 17,
     "metadata": {},
     "output_type": "execute_result"
    }
   ],
   "source": [
    "SoChuSoKhong(10)"
   ]
  },
  {
   "cell_type": "code",
   "execution_count": 18,
   "metadata": {},
   "outputs": [
    {
     "data": {
      "text/plain": [
       "28"
      ]
     },
     "execution_count": 18,
     "metadata": {},
     "output_type": "execute_result"
    }
   ],
   "source": [
    "SoChuSoKhong(100)"
   ]
  },
  {
   "cell_type": "markdown",
   "metadata": {},
   "source": [
    "## Bài 5 \n",
    "- Viết hàm `intersect(lst1, lst2)` để tìm phần giao của 2 danh sách lst1 và lst2 (đã đươc sắp xếp tăng dần).\n",
    "\n",
    "- Ví dụ: với ***l1 = [2, 2, 2, 3, 5, 5, 7], l2 = [2, 2, 3, 3, 5, 7, 7, 7]*** thì ***intersect(l1, l2) = [2, 2, 3, 5, 7]***"
   ]
  },
  {
   "cell_type": "code",
   "execution_count": null,
   "metadata": {},
   "outputs": [],
   "source": [
    "def intersect(lst1, lst2):\n",
    "    # write your code here\n",
    "    lst = []\n",
    "    \n",
    "    \n",
    "    return lst"
   ]
  },
  {
   "cell_type": "code",
   "execution_count": 7,
   "metadata": {},
   "outputs": [
    {
     "data": {
      "text/plain": [
       "[]"
      ]
     },
     "execution_count": 7,
     "metadata": {},
     "output_type": "execute_result"
    }
   ],
   "source": [
    "l1 = [2, 2, 2, 3, 5, 5, 7]\n",
    "l2 = [2, 2, 3, 3, 5, 7, 7, 7]\n",
    "intersect(l1, l2)"
   ]
  }
 ],
 "metadata": {
  "kernelspec": {
   "display_name": "Python 3 (ipykernel)",
   "language": "python",
   "name": "python3"
  },
  "language_info": {
   "codemirror_mode": {
    "name": "ipython",
    "version": 3
   },
   "file_extension": ".py",
   "mimetype": "text/x-python",
   "name": "python",
   "nbconvert_exporter": "python",
   "pygments_lexer": "ipython3",
   "version": "3.9.7"
  }
 },
 "nbformat": 4,
 "nbformat_minor": 4
}
